{
 "cells": [
  {
   "cell_type": "code",
   "execution_count": 6,
   "metadata": {},
   "outputs": [],
   "source": [
    "import pandas as pd\n",
    "import re"
   ]
  },
  {
   "cell_type": "code",
   "execution_count": 25,
   "metadata": {},
   "outputs": [],
   "source": [
    "f = open(\"WhatsApp Chat with Ajay.txt\",'r',encoding='utf-8')"
   ]
  },
  {
   "cell_type": "code",
   "execution_count": 26,
   "metadata": {},
   "outputs": [],
   "source": [
    "data = f.read()"
   ]
  },
  {
   "cell_type": "code",
   "execution_count": 27,
   "metadata": {},
   "outputs": [
    {
     "name": "stdout",
     "output_type": "stream",
     "text": [
      "23/03/2024, 10:45 am - Messages and calls are end-to-end encrypted. No one outside of this chat, not even WhatsApp, can read or listen to them. Tap to learn more.\n",
      "05/03/2024, 8:49 am - sanjay😁: Waiting for this message\n",
      "05/03/2024, 8:50 am - Ajay: Waiting for this message\n",
      "23/03/2024, 6:52 pm - Ajay: <Media omitted>\n",
      "23/03/2024, 6:52 pm - Ajay: Shrikant narsayya malga\n",
      "23/03/2024, 6:55 pm - sanjay😁: <Media omitted>\n",
      "30/03/2024, 6:50 pm - Ajay: Hii\n",
      "30/03/2024, 6:50 pm - Ajay: Bhai sun naa\n",
      "30/03/2024, 6:51 pm - sanjay😁: Bol\n",
      "30/03/2024, 6:52 pm - Ajay: Bhai aaj santosh ka birthday hai jaate hai ky cake lake\n",
      "30/03/2024, 6:52 pm - sanjay😁: Nahi\n",
      "30/03/2024, 6:53 pm - Ajay: Ar gher pe nahi jayenge\n",
      "30/03/2024, 6:53 pm - Ajay: Bahur he\n",
      "30/03/2024, 6:53 pm - sanjay😁: Nahi😅\n",
      "30/03/2024, 6:53 pm - Ajay: Bhai chal naa\n",
      "30/03/2024, 6:53 pm - sanjay😁: Nahi😂\n",
      "30/03/2024, 6:53 pm - Ajay: Chal naa lavde\n",
      "30/03/2024, 6:54 pm - sanjay😁: 😅\n",
      "30/03/2024, 6:54 pm - Ajay: Mai ekla he jaau ky\n",
      "30/03/2024, 6:54 pm - sanjay😁: Kidhar h tu\n",
      "30/03/2024, 6:54 pm - Ajay: Office\n",
      "30/03/2024, 6:54 pm - sanjay😁: Aa gharpe\n",
      "30/03/2024, 6:54 pm - Ajay: Haa aayaa huu\n",
      "30/03/2024, 6:54 pm - Ajay: Thoda time jayegaa\n",
      "30/03/2024, 6:54 pm - sanjay😁: Thik hai\n",
      "05/04/2024, 2:01 pm - sanjay😁: null\n",
      "05/04/2024, 2:18 pm - Ajay: Mc🤣\n",
      "10/04/2024, 9:06 am - sanjay😁: mc ghadi dega\n",
      "10/04/2024, 9:06 am - sanjay😁: ⌚\n",
      "10/04/2024, 10:48 pm - Ajay: Bhai sach mai nahi chelgaa kal\n",
      "10/04/2024, 10:49 pm - sanjay😁: Nahi\n",
      "10/04/2024, 10:49 pm - Ajay: Chal thik hai bsdk\n",
      "10/04/2024, 10:49 pm - Ajay: Tu bhi kabhi bol mai bhi nahi bolungaa\n",
      "10/04/2024, 10:50 pm - sanjay😁: Chal thik h roo mat subah call kar\n",
      "15/04/2024, 9:27 pm - Ajay: 15/04/2024\n",
      "                                                                          NOTICE \n",
      "                                                 A.T.K.T. EXAMINATION RESULT FEBRUARY - 2024\n",
      "Result of examination A.T.K.T. Conducted in month of February – 2024 of Semester I , II , III, IV , V and  VI have been declared on 15th April 2024.  The results are available on the college notice board as well as website.  Students may also click on the link given below to check their result.\n",
      "http://admn.infi.care/Default.aspx?ComingFrom=DEGRESULT&College=09\n",
      "\n",
      "Note: If any discrepancy found in the Results please visit college office personally within two working days from the date of declaration of results. No queries will be entertained over call or messages.\n",
      "\n",
      "Ask students to open the link through laptop or desktop only\n",
      "\n",
      "Result on Mobile will be available on whiiz App after two days in their login.  Login Id is Student id and password is Your first name\n",
      "15/04/2024, 9:32 pm - sanjay😁: <Media omitted>\n",
      "15/04/2024, 9:36 pm - sanjay😁: <Media omitted>\n",
      "15/04/2024, 11:30 pm - Ajay: Bhai match dekhaa\n",
      "15/04/2024, 11:42 pm - sanjay😁: Haa bhai DK\n",
      "20/04/2024, 8:24 am - sanjay😁: Charan kaam pe jayega to bata main bhi chalunga\n",
      "20/04/2024, 8:43 am - Ajay: Haa\n",
      "20/04/2024, 8:43 am - Ajay: Niklte hai 9 baje tak\n",
      "20/04/2024, 8:45 am - sanjay😁: Haa\n",
      "20/04/2024, 9:04 am - sanjay😁: Are charan chalba\n",
      "20/04/2024, 9:04 am - Ajay: Ruk jaate hai bee\n",
      "20/04/2024, 9:05 am - sanjay😁: Are mc 9 30 ke baad mujko entry nahi hai\n",
      "23/04/2024, 8:09 pm - sanjay😁: null\n",
      "24/04/2024, 5:21 pm - sanjay😁: Pav bhaji khayega to paisa bhej\n",
      "24/04/2024, 5:33 pm - Ajay: Kitna\n",
      "24/04/2024, 6:00 pm - sanjay😁: Kitna pav khayega\n",
      "24/04/2024, 6:01 pm - Ajay: 5 pav\n",
      "24/04/2024, 6:15 pm - sanjay😁: 50 bhej\n",
      "24/04/2024, 7:06 pm - sanjay😁: Are charan bhejba\n",
      "24/04/2024, 7:06 pm - Ajay: Bhai cash hai\n",
      "24/04/2024, 7:06 pm - sanjay😁: 3 laadi pav leke aaja udhar se\n",
      "24/04/2024, 7:06 pm - Ajay: Tu lele mai deta huu baad mai\n",
      "24/04/2024, 7:07 pm - sanjay😁: Dinu msg kiya tha\n",
      "24/04/2024, 7:07 pm - Ajay: Nahi\n",
      "24/04/2024, 7:07 pm - sanjay😁: Kya bana raha h karke\n",
      "24/04/2024, 7:07 pm - sanjay😁: Bola pav bhaji bolta hai kitna paisa bheju\n",
      "24/04/2024, 7:08 pm - sanjay😁: Main bola kitna pav khayega bolta hai 4 main bola 50 bhej\n",
      "24/04/2024, 7:08 pm - Ajay: Bhai tuje bolna chahiya thaa Batter lake aa\n",
      "24/04/2024, 7:08 pm - sanjay😁: Are bhai baaki ka bhaji ka paisa tel me banayenge\n",
      "24/04/2024, 7:09 pm - Ajay: Chelgaa chal\n",
      "24/04/2024, 7:09 pm - Ajay: Tu kidher hai\n",
      "24/04/2024, 7:10 pm - sanjay😁: Gharpe\n",
      "24/04/2024, 7:10 pm - sanjay😁: Jaa raha hu bhavani nagar\n",
      "24/04/2024, 7:10 pm - Ajay: Aaya ruk jaa\n",
      "24/04/2024, 7:10 pm - sanjay😁: Thik\n",
      "24/04/2024, 7:17 pm - Ajay: Chal\n",
      "24/04/2024, 7:17 pm - Ajay: Aa\n",
      "24/04/2024, 7:18 pm - sanjay😁: Tu seth ke sath jaa pav leke aana\n",
      "24/04/2024, 7:51 pm - sanjay😁: Bhai 10 10 rs aur lagega\n",
      "26/04/2024, 1:35 pm - Ajay: Bhai aau ky\n",
      "26/04/2024, 1:35 pm - Ajay: Biryani khane\n",
      "26/04/2024, 1:35 pm - Ajay: Kanjur mai he huu😎😂\n",
      "01/05/2024, 10:51 pm - sanjay😁: Bhai\n",
      "01/05/2024, 10:51 pm - sanjay😁: Mat laa\n",
      "02/05/2024, 7:35 pm - sanjay😁: Pattis khayega pattis lena\n",
      "11/05/2024, 10:17 am - sanjay😁: <Media omitted>\n",
      "17/05/2024, 10:29 pm - sanjay😁: Bhai kal kitne baje kaam pe jayega\n",
      "17/05/2024, 10:29 pm - sanjay😁: Main bhi chalunga\n",
      "17/05/2024, 10:29 pm - sanjay😁: Clg jana hai\n",
      "17/05/2024, 10:30 pm - Ajay: Ok\n",
      "18/05/2024, 9:20 am - sanjay😁: Are charan chalva\n",
      "18/05/2024, 11:30 pm - Ajay: Bhai catch dekha ke nahi\n",
      "18/05/2024, 11:31 pm - sanjay😁: Dekha bhai\n",
      "18/05/2024, 11:31 pm - Ajay: Bhai seen hoo gaya\n",
      "18/05/2024, 11:31 pm - Ajay: Kal bataata huu\n",
      "18/05/2024, 11:31 pm - sanjay😁: Kya\n",
      "18/05/2024, 11:32 pm - sanjay😁: Thik hai\n",
      "18/05/2024, 11:34 pm - Ajay: Bhai sab log soo gaye thee mera baap baju mai thaa\n",
      "18/05/2024, 11:35 pm - Ajay: Catch pakdaa out huaa naa to mai chilaa diyaa jor see\n",
      "18/05/2024, 11:35 pm - Ajay: Achank se sab uthaa gaya\n",
      "18/05/2024, 11:35 pm - sanjay😁: 😂\n",
      "18/05/2024, 11:35 pm - Ajay: Baap bolta tv band kar soo mc\n",
      "18/05/2024, 11:35 pm - Ajay: 🤣🤣\n",
      "18/05/2024, 11:35 pm - sanjay😁: 😂\n",
      "18/05/2024, 11:35 pm - Ajay: Dar gaya mera baap\n",
      "18/05/2024, 11:35 pm - Ajay: MI bola nahi match dekh ke band karungaa🤣🤣🤣\n",
      "18/05/2024, 11:59 pm - Ajay: Bhai ky hogaa\n",
      "19/05/2024, 12:00 am - Ajay: Jitenge ke nahi 🤣🤣🤣\n",
      "19/05/2024, 12:09 am - sanjay😁: Abey koi shak tha kya\n",
      "22/05/2024, 7:03 pm - Ajay: *Brihanmumbai Municipal Corporation*\n",
      "\n",
      "*Public Relations Department*\n",
      "\n",
      "_Press Release / 21 May 2024_\n",
      "\n",
      "*Due to the Diversion work of 1200 mm diameter Water Main in T Ward*\n",
      "\n",
      "*There will be no water supply in some parts of 'N', 'S', and 'T' Wards from 11:30 AM on Friday, 24th May 2024 to 11:30 AM on Saturday, 25th May 2024*\n",
      "\n",
      "The work of diverting an existing 1200 mm diameter water main along Mulund Goregaon Link Road (GMLR), from Fortis Hospital to Udyog Shetra, Mulund (West), T Ward, is being undertaken by the BMC through the GMLR Department. This diversion is necessary because the 1200 mm diameter water main is infringing on the foundation of the GMLR flyover.\n",
      "\n",
      "As part of this work, two 1200 x 1200 mm diameter cross connections along GMLR Road are scheduled to be undertaken by the Hydraulic Engineer Department from 11:30 AM on Friday, 24th May 2024 to 11:30 AM on Saturday, 25th May 2024. \n",
      "\n",
      "To carry out this work, isolation of the water mains for 24 hours is required.\n",
      "\n",
      "During this period, from 11:30 AM on Friday, 24th May 2024 to 11:30 AM on Saturday, 25th May 2024, there will be no water supply in some parts of 'N', 'S', and 'T' Wards as mentioned below:\n",
      "\n",
      "\n",
      "*1) N Ward*- Vikhroli Village (East), Godrej Properties, Godrej Hospital - (Normal Supply Timings 03:30 am to 11:30 am) - No water supply on 25th May 2024\n",
      "\n",
      "*2) S Ward*- Nahur (East), Bhandup (East), Kanjurmarg (East), Tagore Nagar (East) whole area & Building No.1 to 32 & 203 to 217 of Kannamwar Nagar, Vikhroli (East) area. - (Normal Supply Timings 03:30 am to 11:30 am) -  No water supply on 25th May 2024\n",
      "\n",
      "*3) S Ward*- Area Near by Mulund-Goregaon Link Road (Ashford Tower, Runwal Tower, Fortis Hospital To Sonapur Signal), Ceat Tyre Road, (Subhash Nagar Road, M.M.R.D.A. Colony), Village Road, Datta Mandir Road, Anjana Estate, Shastri Nagar, Usha Nagar, Lal Bahadur Shastri (L.B.S.) Road, Bhandup (West), Sonapur, Gaondevi Road, Jangal Mangal Road, Lake Road, Draksh Baug, Kaju Tekdi, Janta Market, Tank Road Area, Maharashtra Nagar, Kokan Nagar, Sahyadri Nagar, Quarry Road & Pratap Nagar Road Nearby Areas (Normal Supply Timings 05:00 am to 10:00 am) - No water supply on 25th May 2024\n",
      "\n",
      "*4) T Ward*- Area Near By Mulund-Goregaon Link Road (Mulund West), Area Along LBS Road (Mulund West), J. N. Road, Devidayal Road, Dumping Road, Dr. R. P. Road, P. K. Road, Zaver Road, M. G. Road, N. S. Road, S. N. Road, RHB Road, Walji Ladha Road, V. P. Road, Madan Mohan Malviya Road, ACC Road, B. R. Road, Goshala Road, S. L. Road, Nahur Gaon, etc. (Normal Supply Timings - 24*7) - No water supply from 11:30 am on 24th May 2024 to 11:30 am on 25th May 2024\n",
      "\n",
      "The municipal administration appeals to citizens to store sufficient water and use it judiciously. Water supply will be restored after completion of the work, as per regular supply timings. As a precautionary measure, citizens are requested to filter the water and use it after boiling for the next 4 to 5 days. \n",
      "\n",
      "Citizen are requested to co-operate municipal administration, as the said work will help to provide better water supply in future. \n",
      "***\n",
      "(PRO/117)\n",
      "27/05/2024, 9:53 pm - Ajay: <Media omitted>\n",
      "27/05/2024, 10:11 pm - sanjay😁: Mast\n",
      "01/06/2024, 6:08 pm - sanjay😁: Are charan kable aiba plastikiya aai\n",
      "01/06/2024, 6:08 pm - Ajay: Haa\n",
      "01/06/2024, 6:31 pm - Ajay: Aaya 10 min mai\n",
      "01/06/2024, 6:31 pm - sanjay😁: Haa aaja\n",
      "09/06/2024, 9:19 pm - Ajay: Sparx Men's Ss0561g Sandal \n",
      " https://amzn.in/d/3SbE03A\n",
      "10/06/2024, 11:34 am - Ajay: Deal of the day: SPARX Men's Ss0607g Sandal \n",
      " https://amzn.in/d/15KKUAB\n",
      "10/06/2024, 11:42 am - sanjay😁: Bhai main yahi book kiya subh\n",
      "10/06/2024, 11:46 am - Ajay: Maine bhi\n",
      "29/06/2024, 1:20 pm - Ajay: Hii\n",
      "29/06/2024, 1:20 pm - Ajay: Bhai vo aviater ka link share kar naa\n",
      "29/06/2024, 1:46 pm - sanjay😁: Mat khel mc\n",
      "29/06/2024, 1:48 pm - Ajay: Ar bhai\n",
      "29/06/2024, 1:49 pm - Ajay: Bhej to\n",
      "29/06/2024, 1:49 pm - Ajay: Dost ko chahiye\n",
      "29/06/2024, 2:56 pm - sanjay😁: Do you want to unlock your ₹200 reward right away? Click the link https://in-api.aagame.io/invite/c/8O1YYLZ  and enter the referral code: 8O1YYLZ.\n",
      "06/07/2024, 2:35 pm - sanjay😁: Kidhar pahucha re mc\n",
      "06/07/2024, 3:00 pm - Ajay: Bhai sahganj\n",
      "06/07/2024, 3:29 pm - sanjay😁: Kab tak pahuchega\n",
      "06/07/2024, 3:34 pm - Ajay: 4.30 tek\n",
      "06/07/2024, 3:34 pm - Ajay: Bhai tu chai nahi pilyaa lakin\n",
      "06/07/2024, 4:00 pm - sanjay😁: Mc tu aaya hi nahi\n",
      "06/07/2024, 4:00 pm - sanjay😁: Main rakha tha\n",
      "06/07/2024, 4:03 pm - Ajay: Lavde\n",
      "06/07/2024, 4:03 pm - Ajay: Train  chutt jatii tere chakar mai\n",
      "06/07/2024, 4:12 pm - sanjay😁: Abey lavde ramchandra ke sath bhejta tha tujko\n",
      "06/07/2024, 4:21 pm - Ajay: Bhai vo chutiya hai\n",
      "06/07/2024, 4:21 pm - Ajay: Bola chal to aaya nahi j2\n",
      "06/07/2024, 4:26 pm - sanjay😁: Are bhai o bola mereko uske pass paisa nahi tha\n",
      "06/07/2024, 4:27 pm - sanjay😁: O kal gaya subah jhol karke laya 5000 to gaya\n",
      "06/07/2024, 4:27 pm - sanjay😁: Chicken khila ke gaya\n",
      "06/07/2024, 8:18 pm - Ajay: Bhai usne ajit ka koopar bechaa\n",
      "06/07/2024, 8:18 pm - sanjay😁: 😃😅\n",
      "06/07/2024, 8:18 pm - Ajay: Us din holiday thaa un log ka\n",
      "06/07/2024, 8:19 pm - Ajay: Iske liye jadldi gaya voo\n",
      "06/07/2024, 8:19 pm - sanjay😁: haa\n",
      "07/07/2024, 8:49 pm - sanjay😁: Are charan\n",
      "07/07/2024, 8:58 pm - Ajay: Ky bhai\n",
      "07/07/2024, 10:21 pm - sanjay😁: Bhai 4 roti banaya tha bc 2 chuha keke bhag gaya\n",
      "07/07/2024, 10:21 pm - sanjay😁: Khana khane baithe dekh rahe hai 2 hi roti hi hai\n",
      "07/07/2024, 10:50 pm - Ajay: 🤣🤣🤣\n",
      "07/07/2024, 10:50 pm - Ajay: Scem hoo gaya tere sath\n",
      "11/07/2024, 5:34 pm - sanjay😁: Bhai paisa bhej\n",
      "11/07/2024, 5:42 pm - Ajay: Kitna\n",
      "11/07/2024, 5:43 pm - sanjay😁: Kitna kya 100 rs\n",
      "11/07/2024, 5:43 pm - Ajay: Tuje chahiye\n",
      "11/07/2024, 5:43 pm - sanjay😁: Cake ke liy\n",
      "11/07/2024, 5:47 pm - Ajay: Lavdaa\n",
      "11/07/2024, 5:47 pm - Ajay: Biryani merko milega ky\n",
      "11/07/2024, 5:47 pm - sanjay😁: 😂\n",
      "11/07/2024, 5:47 pm - sanjay😁: Bhai khaunga to main bhi nahi\n",
      "11/07/2024, 5:47 pm - Ajay: Q be\n",
      "11/07/2024, 5:48 pm - Ajay: Tu bhi mat de\n",
      "11/07/2024, 5:48 pm - sanjay😁: Nahi kaunga be\n",
      "11/07/2024, 5:48 pm - sanjay😁: Lavde cake hi nahi aa payega\n",
      "11/07/2024, 5:48 pm - Ajay: 🤣🤣\n",
      "11/07/2024, 5:48 pm - Ajay: Patel ko bol\n",
      "11/07/2024, 5:48 pm - Ajay: Degaa pura\n",
      "11/07/2024, 5:49 pm - sanjay😁: 😂\n",
      "11/07/2024, 5:49 pm - sanjay😁: O to bol raha h nahi late hai\n",
      "11/07/2024, 5:49 pm - Ajay: Sahi bol raha hai bhai\n",
      "11/07/2024, 5:49 pm - sanjay😁: Chup mc\n",
      "11/07/2024, 5:50 pm - sanjay😁: Sabke bady me laye hai\n",
      "11/07/2024, 5:50 pm - Ajay: Bhai dekha naa biryani ka paisaa tum log ko he naa dena pade🤣🤣\n",
      "11/07/2024, 5:50 pm - sanjay😁: 😂😂\n",
      "11/07/2024, 5:50 pm - Ajay: Bhjtaa huu\n",
      "11/07/2024, 5:50 pm - sanjay😁: Patel dega, isliy to main nahi jaa raha hu\n",
      "11/07/2024, 9:53 pm - sanjay😁: Bhai patel paisa bhej ke chala gaya gadi pe\n",
      "11/07/2024, 9:53 pm - sanjay😁: Aur bhaiya rikshe pe\n",
      "11/07/2024, 9:53 pm - Ajay: Bhai tu fir akla he karegaa\n",
      "11/07/2024, 9:53 pm - sanjay😁: Mujko bolte hai jaa ke cake laa\n",
      "11/07/2024, 9:54 pm - Ajay: Basant rehegaa naa\n",
      "11/07/2024, 9:54 pm - Ajay: Bhai fu ekla kaisaa jayegaa\n",
      "11/07/2024, 9:54 pm - sanjay😁: Gaya kisi ko chhodne call kiya to bolta hai sion me hu\n",
      "11/07/2024, 9:54 pm - Ajay: Lavde tu 1laa ky karegaa\n",
      "11/07/2024, 9:54 pm - sanjay😁: Land jaa raha hu phone band karke sone\n",
      "11/07/2024, 9:54 pm - Ajay: 🤣\n",
      "11/07/2024, 9:55 pm - Ajay: Patel kab tek aaygaa\n",
      "11/07/2024, 9:55 pm - sanjay😁: 11 300\n",
      "11/07/2024, 9:55 pm - Ajay: Bhai tu ekla kaise jaayegaa\n",
      "11/07/2024, 9:55 pm - sanjay😁: Land nahi jayega\n",
      "11/07/2024, 9:56 pm - Ajay: Gaadi bhi nahi hai kisia legaa\n",
      "11/07/2024, 9:56 pm - sanjay😁: Mc chudaye ye log\n",
      "11/07/2024, 9:56 pm - Ajay: Bhai ye sochgaa ye log jaan buch ke kiye\n",
      "11/07/2024, 9:57 pm - sanjay😁: Gand maraye\n",
      "11/07/2024, 9:57 pm - Ajay: Jaane de bhai mai to bolta huu kisi ke sath jaake lake aaja\n",
      "11/07/2024, 9:57 pm - Ajay: Janae de bhai\n",
      "11/07/2024, 9:58 pm - sanjay😁: Land\n",
      "11/07/2024, 9:58 pm - Ajay: Jaa bhai jaane de yaar\n",
      "11/07/2024, 9:59 pm - Ajay: Abhi apne sath rehtaa hai ky karegaa\n",
      "11/07/2024, 10:00 pm - sanjay😁: Maa chuda tu bhi\n",
      "11/07/2024, 10:00 pm - sanjay😁: Itna socha to 100 rs bheja kyu nahi\n",
      "11/07/2024, 10:00 pm - Ajay: Bhjaa naa bhai\n",
      "11/07/2024, 10:00 pm - Ajay: Patel ko\n",
      "11/07/2024, 10:01 pm - sanjay😁: Nahi bheja o mujhe\n",
      "11/07/2024, 10:01 pm - Ajay: Bhai mai bhjaa thaa usay\n",
      "11/07/2024, 10:01 pm - Ajay: Ruk tuje he bhjtaa huu\n",
      "11/07/2024, 10:02 pm - Ajay: Patel se baad mai lelungaa\n",
      "11/07/2024, 10:02 pm - sanjay😁: Nahi\n",
      "11/07/2024, 10:02 pm - sanjay😁: Ruk abhi main bola usko\n",
      "11/07/2024, 10:02 pm - sanjay😁: Bevda paisa nahi bheja to bolta hai main bhejta hu 100\n",
      "11/07/2024, 10:02 pm - sanjay😁: Mujhe laga bhai o yahi de raha hai\n",
      "11/07/2024, 10:03 pm - sanjay😁: Bola nahi ki tu bheja tha\n",
      "11/07/2024, 10:03 pm - Ajay: Bhjaa dek\n",
      "11/07/2024, 10:04 pm - sanjay😁: Bhejta hu\n",
      "11/07/2024, 10:05 pm - sanjay😁: Patel bhej\n",
      "15/07/2024, 2:09 pm - Ajay: Ky sanjay bhay\n",
      "15/07/2024, 2:10 pm - Ajay: Ky hoo raha hai\n",
      "15/07/2024, 2:20 pm - sanjay😁: Bhay tum to bhul gaye gav jaa ke\n",
      "15/07/2024, 2:21 pm - Ajay: Nahi Bhai\n",
      "15/07/2024, 2:21 pm - Ajay: Tumhe nahi bhul sakta\n",
      "15/07/2024, 2:21 pm - sanjay😁: Haa mc\n",
      "15/07/2024, 2:21 pm - sanjay😁: Kal train hai na\n",
      "15/07/2024, 2:21 pm - Ajay: Haa bhai\n",
      "15/07/2024, 2:21 pm - Ajay: Bahot garmi hai bc\n",
      "15/07/2024, 2:24 pm - sanjay😁: Haa\n",
      "15/07/2024, 2:24 pm - sanjay😁: Idhar bahot barish hai bhai\n",
      "15/07/2024, 2:35 pm - Ajay: Bhai yaha barish ka namo nishan he nahi hai\n",
      "15/07/2024, 5:36 pm - Ajay: Bhai ky laau tere liye bata yaha see\n",
      "15/07/2024, 5:41 pm - sanjay😁: Kuch nahi bhai tu aaja bas\n",
      "15/07/2024, 5:41 pm - Ajay: Bol naa bhai ky laau khane ke liye\n",
      "15/07/2024, 5:42 pm - sanjay😁: Kya batau bhai\n",
      "15/07/2024, 5:42 pm - sanjay😁: Namkin le lena yadav wali chai ke sath khayenge\n",
      "15/07/2024, 5:42 pm - sanjay😁: 😂\n",
      "15/07/2024, 5:43 pm - Ajay: Chal thik hai\n",
      "15/07/2024, 5:44 pm - sanjay😁: Haa\n",
      "15/07/2024, 11:40 pm - Ajay: Bhai aaj apne chacha ke maa chod diyaa ham log 😂😂\n",
      "16/07/2024, 7:57 am - sanjay😁: 😂\n",
      "16/07/2024, 7:57 am - sanjay😁: Kyu be\n",
      "16/07/2024, 7:58 am - Ajay: Aise hee\n",
      "16/07/2024, 7:58 am - Ajay: Pateli kar raha thaa\n",
      "16/07/2024, 8:30 am - sanjay😁: Chhod gand maraye o\n",
      "16/07/2024, 8:31 am - sanjay😁: Tum log aa jao\n",
      "16/07/2024, 8:48 am - Ajay: Haa\n",
      "16/07/2024, 8:49 am - sanjay😁: ha bhai nikla ki nahi\n",
      "16/07/2024, 8:49 am - Ajay: Station pe huu\n",
      "16/07/2024, 8:49 am - sanjay😁: thik\n",
      "17/07/2024, 9:03 am - sanjay😁: Kahan pahuchla charan\n",
      "17/07/2024, 9:05 am - Ajay: Bhai nashik pohcne vala huu\n",
      "17/07/2024, 9:08 am - sanjay😁: Bhai konsa train hai bahot jaldi aa raha hai\n",
      "17/07/2024, 9:30 am - Ajay: Godhan\n",
      "17/07/2024, 9:34 am - sanjay😁: chal aaja phir\n",
      "17/07/2024, 11:14 am - Ajay: Haa bhai\n",
      "19/07/2024, 11:13 am - Ajay: Deal of the day for Prime Members: boAt Airdopes 311 Pro TWS in-Ear Earbuds w/Up to 50 HRS Playtime, Dual Mics with ENx™ Tech, 50 ms low-latency BEAST™ Mode, ASAP™ Charging, IWP™ Tech(Active Black) \n",
      " https://amzn.in/d/05jnbR0n\n",
      "19/07/2024, 11:14 am - Ajay: Bhai tere yaha dek buy ka option aa raha hai ky\n",
      "19/07/2024, 11:15 am - sanjay😁: Nahi\n",
      "19/07/2024, 11:15 am - Ajay: Stock mai nahi hai lagata hai\n",
      "19/07/2024, 11:16 am - sanjay😁: Haa\n",
      "24/07/2024, 9:20 am - sanjay😁: bhai kasam se mera pet dukh raha hai\n",
      "24/07/2024, 9:20 am - sanjay😁: kal o kha lena chahiy tha\n",
      "24/07/2024, 12:08 pm - Ajay: Bhai mera bhi pat dhukk raha hai bc\n",
      "24/07/2024, 12:08 pm - Ajay: Sach mai\n",
      "24/07/2024, 12:08 pm - Ajay: Bathroom bahot patla hoo raha hai\n",
      "24/07/2024, 12:13 pm - sanjay😁: 😂\n",
      "24/07/2024, 12:57 pm - sanjay😁: Bhai aaj ke baad tangdi biryani nahi khayenge\n",
      "24/07/2024, 1:37 pm - Ajay: Haa bhai\n",
      "24/07/2024, 1:39 pm - Ajay: Bhai college mai hay yaa gher pe\n",
      "24/07/2024, 1:43 pm - sanjay😁: clg\n",
      "25/07/2024, 5:10 pm - Ajay: Hii\n",
      "25/07/2024, 5:10 pm - Ajay: Bhai\n",
      "25/07/2024, 5:38 pm - sanjay😁: Bol\n",
      "25/07/2024, 5:38 pm - Ajay: Sangeta ko ladka huaa naa\n",
      "25/07/2024, 5:40 pm - sanjay😁: Pata nahi bhai\n",
      "25/07/2024, 6:13 pm - sanjay😁: Haan bhai ravindra ka status dekh\n",
      "25/07/2024, 6:49 pm - Ajay: null\n",
      "25/07/2024, 6:49 pm - sanjay😁: kya hua\n",
      "25/07/2024, 6:49 pm - Ajay: Vada pav khaygaa\n",
      "25/07/2024, 6:49 pm - sanjay😁: nahi bhai abhi chai piya\n",
      "25/07/2024, 6:50 pm - sanjay😁: lele bhai\n",
      "25/07/2024, 6:51 pm - sanjay😁: kha lunga\n",
      "\n"
     ]
    }
   ],
   "source": [
    "print(data)"
   ]
  },
  {
   "cell_type": "code",
   "execution_count": 28,
   "metadata": {},
   "outputs": [],
   "source": [
    "pattern = r'\\d{1,2}\\/\\d{1,2}\\/\\d{1,4},\\s\\d{1,2}:\\d{1,2}\\s[APMapm]{2}\\s-\\s'"
   ]
  },
  {
   "cell_type": "code",
   "execution_count": 29,
   "metadata": {},
   "outputs": [
    {
     "name": "stdout",
     "output_type": "stream",
     "text": [
      "['23/03/2024, 10:45\\u202fam - ', '05/03/2024, 8:49\\u202fam - ', '05/03/2024, 8:50\\u202fam - ', '23/03/2024, 6:52\\u202fpm - ', '23/03/2024, 6:52\\u202fpm - ', '23/03/2024, 6:55\\u202fpm - ', '30/03/2024, 6:50\\u202fpm - ', '30/03/2024, 6:50\\u202fpm - ', '30/03/2024, 6:51\\u202fpm - ', '30/03/2024, 6:52\\u202fpm - ', '30/03/2024, 6:52\\u202fpm - ', '30/03/2024, 6:53\\u202fpm - ', '30/03/2024, 6:53\\u202fpm - ', '30/03/2024, 6:53\\u202fpm - ', '30/03/2024, 6:53\\u202fpm - ', '30/03/2024, 6:53\\u202fpm - ', '30/03/2024, 6:53\\u202fpm - ', '30/03/2024, 6:54\\u202fpm - ', '30/03/2024, 6:54\\u202fpm - ', '30/03/2024, 6:54\\u202fpm - ', '30/03/2024, 6:54\\u202fpm - ', '30/03/2024, 6:54\\u202fpm - ', '30/03/2024, 6:54\\u202fpm - ', '30/03/2024, 6:54\\u202fpm - ', '30/03/2024, 6:54\\u202fpm - ', '05/04/2024, 2:01\\u202fpm - ', '05/04/2024, 2:18\\u202fpm - ', '10/04/2024, 9:06\\u202fam - ', '10/04/2024, 9:06\\u202fam - ', '10/04/2024, 10:48\\u202fpm - ', '10/04/2024, 10:49\\u202fpm - ', '10/04/2024, 10:49\\u202fpm - ', '10/04/2024, 10:49\\u202fpm - ', '10/04/2024, 10:50\\u202fpm - ', '15/04/2024, 9:27\\u202fpm - ', '15/04/2024, 9:32\\u202fpm - ', '15/04/2024, 9:36\\u202fpm - ', '15/04/2024, 11:30\\u202fpm - ', '15/04/2024, 11:42\\u202fpm - ', '20/04/2024, 8:24\\u202fam - ', '20/04/2024, 8:43\\u202fam - ', '20/04/2024, 8:43\\u202fam - ', '20/04/2024, 8:45\\u202fam - ', '20/04/2024, 9:04\\u202fam - ', '20/04/2024, 9:04\\u202fam - ', '20/04/2024, 9:05\\u202fam - ', '23/04/2024, 8:09\\u202fpm - ', '24/04/2024, 5:21\\u202fpm - ', '24/04/2024, 5:33\\u202fpm - ', '24/04/2024, 6:00\\u202fpm - ', '24/04/2024, 6:01\\u202fpm - ', '24/04/2024, 6:15\\u202fpm - ', '24/04/2024, 7:06\\u202fpm - ', '24/04/2024, 7:06\\u202fpm - ', '24/04/2024, 7:06\\u202fpm - ', '24/04/2024, 7:06\\u202fpm - ', '24/04/2024, 7:07\\u202fpm - ', '24/04/2024, 7:07\\u202fpm - ', '24/04/2024, 7:07\\u202fpm - ', '24/04/2024, 7:07\\u202fpm - ', '24/04/2024, 7:08\\u202fpm - ', '24/04/2024, 7:08\\u202fpm - ', '24/04/2024, 7:08\\u202fpm - ', '24/04/2024, 7:09\\u202fpm - ', '24/04/2024, 7:09\\u202fpm - ', '24/04/2024, 7:10\\u202fpm - ', '24/04/2024, 7:10\\u202fpm - ', '24/04/2024, 7:10\\u202fpm - ', '24/04/2024, 7:10\\u202fpm - ', '24/04/2024, 7:17\\u202fpm - ', '24/04/2024, 7:17\\u202fpm - ', '24/04/2024, 7:18\\u202fpm - ', '24/04/2024, 7:51\\u202fpm - ', '26/04/2024, 1:35\\u202fpm - ', '26/04/2024, 1:35\\u202fpm - ', '26/04/2024, 1:35\\u202fpm - ', '01/05/2024, 10:51\\u202fpm - ', '01/05/2024, 10:51\\u202fpm - ', '02/05/2024, 7:35\\u202fpm - ', '11/05/2024, 10:17\\u202fam - ', '17/05/2024, 10:29\\u202fpm - ', '17/05/2024, 10:29\\u202fpm - ', '17/05/2024, 10:29\\u202fpm - ', '17/05/2024, 10:30\\u202fpm - ', '18/05/2024, 9:20\\u202fam - ', '18/05/2024, 11:30\\u202fpm - ', '18/05/2024, 11:31\\u202fpm - ', '18/05/2024, 11:31\\u202fpm - ', '18/05/2024, 11:31\\u202fpm - ', '18/05/2024, 11:31\\u202fpm - ', '18/05/2024, 11:32\\u202fpm - ', '18/05/2024, 11:34\\u202fpm - ', '18/05/2024, 11:35\\u202fpm - ', '18/05/2024, 11:35\\u202fpm - ', '18/05/2024, 11:35\\u202fpm - ', '18/05/2024, 11:35\\u202fpm - ', '18/05/2024, 11:35\\u202fpm - ', '18/05/2024, 11:35\\u202fpm - ', '18/05/2024, 11:35\\u202fpm - ', '18/05/2024, 11:35\\u202fpm - ', '18/05/2024, 11:59\\u202fpm - ', '19/05/2024, 12:00\\u202fam - ', '19/05/2024, 12:09\\u202fam - ', '22/05/2024, 7:03\\u202fpm - ', '27/05/2024, 9:53\\u202fpm - ', '27/05/2024, 10:11\\u202fpm - ', '01/06/2024, 6:08\\u202fpm - ', '01/06/2024, 6:08\\u202fpm - ', '01/06/2024, 6:31\\u202fpm - ', '01/06/2024, 6:31\\u202fpm - ', '09/06/2024, 9:19\\u202fpm - ', '10/06/2024, 11:34\\u202fam - ', '10/06/2024, 11:42\\u202fam - ', '10/06/2024, 11:46\\u202fam - ', '29/06/2024, 1:20\\u202fpm - ', '29/06/2024, 1:20\\u202fpm - ', '29/06/2024, 1:46\\u202fpm - ', '29/06/2024, 1:48\\u202fpm - ', '29/06/2024, 1:49\\u202fpm - ', '29/06/2024, 1:49\\u202fpm - ', '29/06/2024, 2:56\\u202fpm - ', '06/07/2024, 2:35\\u202fpm - ', '06/07/2024, 3:00\\u202fpm - ', '06/07/2024, 3:29\\u202fpm - ', '06/07/2024, 3:34\\u202fpm - ', '06/07/2024, 3:34\\u202fpm - ', '06/07/2024, 4:00\\u202fpm - ', '06/07/2024, 4:00\\u202fpm - ', '06/07/2024, 4:03\\u202fpm - ', '06/07/2024, 4:03\\u202fpm - ', '06/07/2024, 4:12\\u202fpm - ', '06/07/2024, 4:21\\u202fpm - ', '06/07/2024, 4:21\\u202fpm - ', '06/07/2024, 4:26\\u202fpm - ', '06/07/2024, 4:27\\u202fpm - ', '06/07/2024, 4:27\\u202fpm - ', '06/07/2024, 8:18\\u202fpm - ', '06/07/2024, 8:18\\u202fpm - ', '06/07/2024, 8:18\\u202fpm - ', '06/07/2024, 8:19\\u202fpm - ', '06/07/2024, 8:19\\u202fpm - ', '07/07/2024, 8:49\\u202fpm - ', '07/07/2024, 8:58\\u202fpm - ', '07/07/2024, 10:21\\u202fpm - ', '07/07/2024, 10:21\\u202fpm - ', '07/07/2024, 10:50\\u202fpm - ', '07/07/2024, 10:50\\u202fpm - ', '11/07/2024, 5:34\\u202fpm - ', '11/07/2024, 5:42\\u202fpm - ', '11/07/2024, 5:43\\u202fpm - ', '11/07/2024, 5:43\\u202fpm - ', '11/07/2024, 5:43\\u202fpm - ', '11/07/2024, 5:47\\u202fpm - ', '11/07/2024, 5:47\\u202fpm - ', '11/07/2024, 5:47\\u202fpm - ', '11/07/2024, 5:47\\u202fpm - ', '11/07/2024, 5:47\\u202fpm - ', '11/07/2024, 5:48\\u202fpm - ', '11/07/2024, 5:48\\u202fpm - ', '11/07/2024, 5:48\\u202fpm - ', '11/07/2024, 5:48\\u202fpm - ', '11/07/2024, 5:48\\u202fpm - ', '11/07/2024, 5:48\\u202fpm - ', '11/07/2024, 5:49\\u202fpm - ', '11/07/2024, 5:49\\u202fpm - ', '11/07/2024, 5:49\\u202fpm - ', '11/07/2024, 5:49\\u202fpm - ', '11/07/2024, 5:50\\u202fpm - ', '11/07/2024, 5:50\\u202fpm - ', '11/07/2024, 5:50\\u202fpm - ', '11/07/2024, 5:50\\u202fpm - ', '11/07/2024, 5:50\\u202fpm - ', '11/07/2024, 9:53\\u202fpm - ', '11/07/2024, 9:53\\u202fpm - ', '11/07/2024, 9:53\\u202fpm - ', '11/07/2024, 9:53\\u202fpm - ', '11/07/2024, 9:54\\u202fpm - ', '11/07/2024, 9:54\\u202fpm - ', '11/07/2024, 9:54\\u202fpm - ', '11/07/2024, 9:54\\u202fpm - ', '11/07/2024, 9:54\\u202fpm - ', '11/07/2024, 9:54\\u202fpm - ', '11/07/2024, 9:55\\u202fpm - ', '11/07/2024, 9:55\\u202fpm - ', '11/07/2024, 9:55\\u202fpm - ', '11/07/2024, 9:55\\u202fpm - ', '11/07/2024, 9:56\\u202fpm - ', '11/07/2024, 9:56\\u202fpm - ', '11/07/2024, 9:56\\u202fpm - ', '11/07/2024, 9:57\\u202fpm - ', '11/07/2024, 9:57\\u202fpm - ', '11/07/2024, 9:57\\u202fpm - ', '11/07/2024, 9:58\\u202fpm - ', '11/07/2024, 9:58\\u202fpm - ', '11/07/2024, 9:59\\u202fpm - ', '11/07/2024, 10:00\\u202fpm - ', '11/07/2024, 10:00\\u202fpm - ', '11/07/2024, 10:00\\u202fpm - ', '11/07/2024, 10:00\\u202fpm - ', '11/07/2024, 10:01\\u202fpm - ', '11/07/2024, 10:01\\u202fpm - ', '11/07/2024, 10:01\\u202fpm - ', '11/07/2024, 10:02\\u202fpm - ', '11/07/2024, 10:02\\u202fpm - ', '11/07/2024, 10:02\\u202fpm - ', '11/07/2024, 10:02\\u202fpm - ', '11/07/2024, 10:02\\u202fpm - ', '11/07/2024, 10:03\\u202fpm - ', '11/07/2024, 10:03\\u202fpm - ', '11/07/2024, 10:04\\u202fpm - ', '11/07/2024, 10:05\\u202fpm - ', '15/07/2024, 2:09\\u202fpm - ', '15/07/2024, 2:10\\u202fpm - ', '15/07/2024, 2:20\\u202fpm - ', '15/07/2024, 2:21\\u202fpm - ', '15/07/2024, 2:21\\u202fpm - ', '15/07/2024, 2:21\\u202fpm - ', '15/07/2024, 2:21\\u202fpm - ', '15/07/2024, 2:21\\u202fpm - ', '15/07/2024, 2:21\\u202fpm - ', '15/07/2024, 2:24\\u202fpm - ', '15/07/2024, 2:24\\u202fpm - ', '15/07/2024, 2:35\\u202fpm - ', '15/07/2024, 5:36\\u202fpm - ', '15/07/2024, 5:41\\u202fpm - ', '15/07/2024, 5:41\\u202fpm - ', '15/07/2024, 5:42\\u202fpm - ', '15/07/2024, 5:42\\u202fpm - ', '15/07/2024, 5:42\\u202fpm - ', '15/07/2024, 5:43\\u202fpm - ', '15/07/2024, 5:44\\u202fpm - ', '15/07/2024, 11:40\\u202fpm - ', '16/07/2024, 7:57\\u202fam - ', '16/07/2024, 7:57\\u202fam - ', '16/07/2024, 7:58\\u202fam - ', '16/07/2024, 7:58\\u202fam - ', '16/07/2024, 8:30\\u202fam - ', '16/07/2024, 8:31\\u202fam - ', '16/07/2024, 8:48\\u202fam - ', '16/07/2024, 8:49\\u202fam - ', '16/07/2024, 8:49\\u202fam - ', '16/07/2024, 8:49\\u202fam - ', '17/07/2024, 9:03\\u202fam - ', '17/07/2024, 9:05\\u202fam - ', '17/07/2024, 9:08\\u202fam - ', '17/07/2024, 9:30\\u202fam - ', '17/07/2024, 9:34\\u202fam - ', '17/07/2024, 11:14\\u202fam - ', '19/07/2024, 11:13\\u202fam - ', '19/07/2024, 11:14\\u202fam - ', '19/07/2024, 11:15\\u202fam - ', '19/07/2024, 11:15\\u202fam - ', '19/07/2024, 11:16\\u202fam - ', '24/07/2024, 9:20\\u202fam - ', '24/07/2024, 9:20\\u202fam - ', '24/07/2024, 12:08\\u202fpm - ', '24/07/2024, 12:08\\u202fpm - ', '24/07/2024, 12:08\\u202fpm - ', '24/07/2024, 12:13\\u202fpm - ', '24/07/2024, 12:57\\u202fpm - ', '24/07/2024, 1:37\\u202fpm - ', '24/07/2024, 1:39\\u202fpm - ', '24/07/2024, 1:43\\u202fpm - ', '25/07/2024, 5:10\\u202fpm - ', '25/07/2024, 5:10\\u202fpm - ', '25/07/2024, 5:38\\u202fpm - ', '25/07/2024, 5:38\\u202fpm - ', '25/07/2024, 5:40\\u202fpm - ', '25/07/2024, 6:13\\u202fpm - ', '25/07/2024, 6:49\\u202fpm - ', '25/07/2024, 6:49\\u202fpm - ', '25/07/2024, 6:49\\u202fpm - ', '25/07/2024, 6:49\\u202fpm - ', '25/07/2024, 6:50\\u202fpm - ', '25/07/2024, 6:51\\u202fpm - ']\n"
     ]
    }
   ],
   "source": [
    "dates = re.findall(pattern, data)\n",
    "print(dates)"
   ]
  },
  {
   "cell_type": "code",
   "execution_count": 30,
   "metadata": {},
   "outputs": [
    {
     "name": "stdout",
     "output_type": "stream",
     "text": [
      "['Messages and calls are end-to-end encrypted. No one outside of this chat, not even WhatsApp, can read or listen to them. Tap to learn more.\\n', 'sanjay😁: Waiting for this message\\n', 'Ajay: Waiting for this message\\n', 'Ajay: <Media omitted>\\n', 'Ajay: Shrikant narsayya malga\\n', 'sanjay😁: <Media omitted>\\n', 'Ajay: Hii\\n', 'Ajay: Bhai sun naa\\n', 'sanjay😁: Bol\\n', 'Ajay: Bhai aaj santosh ka birthday hai jaate hai ky cake lake\\n', 'sanjay😁: Nahi\\n', 'Ajay: Ar gher pe nahi jayenge\\n', 'Ajay: Bahur he\\n', 'sanjay😁: Nahi😅\\n', 'Ajay: Bhai chal naa\\n', 'sanjay😁: Nahi😂\\n', 'Ajay: Chal naa lavde\\n', 'sanjay😁: 😅\\n', 'Ajay: Mai ekla he jaau ky\\n', 'sanjay😁: Kidhar h tu\\n', 'Ajay: Office\\n', 'sanjay😁: Aa gharpe\\n', 'Ajay: Haa aayaa huu\\n', 'Ajay: Thoda time jayegaa\\n', 'sanjay😁: Thik hai\\n', 'sanjay😁: null\\n', 'Ajay: Mc🤣\\n', 'sanjay😁: mc ghadi dega\\n', 'sanjay😁: ⌚\\n', 'Ajay: Bhai sach mai nahi chelgaa kal\\n', 'sanjay😁: Nahi\\n', 'Ajay: Chal thik hai bsdk\\n', 'Ajay: Tu bhi kabhi bol mai bhi nahi bolungaa\\n', 'sanjay😁: Chal thik h roo mat subah call kar\\n', 'Ajay: 15/04/2024\\n                                                                          NOTICE \\n                                                 A.T.K.T. EXAMINATION RESULT FEBRUARY - 2024\\nResult of examination A.T.K.T. Conducted in month of February – 2024 of Semester I , II , III, IV , V and  VI have been declared on 15th April 2024.  The results are available on the college notice board as well as website.  Students may also click on the link given below to check their result.\\nhttp://admn.infi.care/Default.aspx?ComingFrom=DEGRESULT&College=09\\n\\nNote: If any discrepancy found in the Results please visit college office personally within two working days from the date of declaration of results. No queries will be entertained over call or messages.\\n\\nAsk students to open the link through laptop or desktop only\\n\\nResult on Mobile will be available on whiiz App after two days in their login.  Login Id is Student id and password is Your\\xa0first\\xa0name\\n', 'sanjay😁: <Media omitted>\\n', 'sanjay😁: <Media omitted>\\n', 'Ajay: Bhai match dekhaa\\n', 'sanjay😁: Haa bhai DK\\n', 'sanjay😁: Charan kaam pe jayega to bata main bhi chalunga\\n', 'Ajay: Haa\\n', 'Ajay: Niklte hai 9 baje tak\\n', 'sanjay😁: Haa\\n', 'sanjay😁: Are charan chalba\\n', 'Ajay: Ruk jaate hai bee\\n', 'sanjay😁: Are mc 9 30 ke baad mujko entry nahi hai\\n', 'sanjay😁: null\\n', 'sanjay😁: Pav bhaji khayega to paisa bhej\\n', 'Ajay: Kitna\\n', 'sanjay😁: Kitna pav khayega\\n', 'Ajay: 5 pav\\n', 'sanjay😁: 50 bhej\\n', 'sanjay😁: Are charan bhejba\\n', 'Ajay: Bhai cash hai\\n', 'sanjay😁: 3 laadi pav leke aaja udhar se\\n', 'Ajay: Tu lele mai deta huu baad mai\\n', 'sanjay😁: Dinu msg kiya tha\\n', 'Ajay: Nahi\\n', 'sanjay😁: Kya bana raha h karke\\n', 'sanjay😁: Bola pav bhaji bolta hai kitna paisa bheju\\n', 'sanjay😁: Main bola kitna pav khayega bolta hai 4 main bola 50 bhej\\n', 'Ajay: Bhai tuje bolna chahiya thaa Batter lake aa\\n', 'sanjay😁: Are bhai baaki ka bhaji ka paisa tel me banayenge\\n', 'Ajay: Chelgaa chal\\n', 'Ajay: Tu kidher hai\\n', 'sanjay😁: Gharpe\\n', 'sanjay😁: Jaa raha hu bhavani nagar\\n', 'Ajay: Aaya ruk jaa\\n', 'sanjay😁: Thik\\n', 'Ajay: Chal\\n', 'Ajay: Aa\\n', 'sanjay😁: Tu seth ke sath jaa pav leke aana\\n', 'sanjay😁: Bhai 10 10 rs aur lagega\\n', 'Ajay: Bhai aau ky\\n', 'Ajay: Biryani khane\\n', 'Ajay: Kanjur mai he huu😎😂\\n', 'sanjay😁: Bhai\\n', 'sanjay😁: Mat laa\\n', 'sanjay😁: Pattis khayega pattis lena\\n', 'sanjay😁: <Media omitted>\\n', 'sanjay😁: Bhai kal kitne baje kaam pe jayega\\n', 'sanjay😁: Main bhi chalunga\\n', 'sanjay😁: Clg jana hai\\n', 'Ajay: Ok\\n', 'sanjay😁: Are charan chalva\\n', 'Ajay: Bhai catch dekha ke nahi\\n', 'sanjay😁: Dekha bhai\\n', 'Ajay: Bhai seen hoo gaya\\n', 'Ajay: Kal bataata huu\\n', 'sanjay😁: Kya\\n', 'sanjay😁: Thik hai\\n', 'Ajay: Bhai sab log soo gaye thee mera baap baju mai thaa\\n', 'Ajay: Catch pakdaa out huaa naa to mai chilaa diyaa jor see\\n', 'Ajay: Achank se sab uthaa gaya\\n', 'sanjay😁: 😂\\n', 'Ajay: Baap bolta tv band kar soo mc\\n', 'Ajay: 🤣🤣\\n', 'sanjay😁: 😂\\n', 'Ajay: Dar gaya mera baap\\n', 'Ajay: MI bola nahi match dekh ke band karungaa🤣🤣🤣\\n', 'Ajay: Bhai ky hogaa\\n', 'Ajay: Jitenge ke nahi 🤣🤣🤣\\n', 'sanjay😁: Abey koi shak tha kya\\n', \"Ajay: *Brihanmumbai Municipal Corporation*\\n\\n*Public Relations Department*\\n\\n_Press Release / 21 May 2024_\\n\\n*Due to the Diversion work of 1200 mm diameter Water Main in T Ward*\\n\\n*There will be no water supply in some parts of 'N', 'S', and 'T' Wards from 11:30 AM on Friday, 24th May 2024 to 11:30 AM on Saturday, 25th May 2024*\\n\\nThe work of diverting an existing 1200 mm diameter water main along Mulund Goregaon Link Road (GMLR), from Fortis Hospital to Udyog Shetra, Mulund (West), T Ward, is being undertaken by the BMC through the GMLR Department. This diversion is necessary because the 1200 mm diameter water main is infringing on the foundation of the GMLR flyover.\\n\\nAs part of this work, two 1200 x 1200 mm diameter cross connections along GMLR Road are scheduled to be undertaken by the Hydraulic Engineer Department from 11:30 AM on Friday, 24th May 2024 to 11:30 AM on Saturday, 25th May 2024. \\n\\nTo carry out this work, isolation of the water mains for 24 hours is required.\\n\\nDuring this period, from 11:30 AM on Friday, 24th May 2024 to 11:30 AM on Saturday, 25th May 2024, there will be no water supply in some parts of 'N', 'S', and 'T' Wards as mentioned below:\\n\\n\\n*1) N Ward*- Vikhroli Village (East), Godrej Properties, Godrej Hospital - (Normal Supply Timings 03:30 am to 11:30 am) - No water supply on 25th May 2024\\n\\n*2) S Ward*- Nahur (East), Bhandup (East), Kanjurmarg (East), Tagore Nagar (East) whole area & Building No.1 to 32 & 203 to 217 of Kannamwar Nagar, Vikhroli (East) area. - (Normal Supply Timings 03:30 am to 11:30 am) -  No water supply on 25th May 2024\\n\\n*3) S Ward*- Area Near by Mulund-Goregaon Link Road (Ashford Tower, Runwal Tower, Fortis Hospital To Sonapur Signal), Ceat Tyre Road, (Subhash Nagar Road, M.M.R.D.A. Colony), Village Road, Datta Mandir Road, Anjana Estate, Shastri Nagar, Usha Nagar, Lal Bahadur Shastri (L.B.S.) Road, Bhandup (West), Sonapur, Gaondevi Road, Jangal Mangal Road, Lake Road, Draksh Baug, Kaju Tekdi, Janta Market, Tank Road Area, Maharashtra Nagar, Kokan Nagar, Sahyadri Nagar, Quarry Road & Pratap Nagar Road Nearby Areas (Normal Supply Timings 05:00 am to 10:00 am) - No water supply on 25th May 2024\\n\\n*4) T Ward*- Area Near By Mulund-Goregaon Link Road (Mulund West), Area Along LBS Road (Mulund West), J. N. Road, Devidayal Road, Dumping Road, Dr. R. P. Road, P. K. Road, Zaver Road, M. G. Road, N. S. Road, S. N. Road, RHB Road, Walji Ladha Road, V. P. Road, Madan Mohan Malviya Road, ACC Road, B. R. Road, Goshala Road, S. L. Road, Nahur Gaon, etc. (Normal Supply Timings - 24*7) - No water supply from 11:30 am on 24th May 2024 to 11:30 am on 25th May 2024\\n\\nThe municipal administration appeals to citizens to store sufficient water and use it judiciously. Water supply will be restored after completion of the work, as per regular supply timings. As a precautionary measure, citizens are requested to filter the water and use it after boiling for the next 4 to 5 days. \\n\\nCitizen are requested to co-operate municipal administration, as the said work will help to provide better water supply in future. \\n***\\n(PRO/117)\\n\", 'Ajay: <Media omitted>\\n', 'sanjay😁: Mast\\n', 'sanjay😁: Are charan kable aiba plastikiya aai\\n', 'Ajay: Haa\\n', 'Ajay: Aaya 10 min mai\\n', 'sanjay😁: Haa aaja\\n', \"Ajay: Sparx Men's Ss0561g Sandal \\n https://amzn.in/d/3SbE03A\\n\", \"Ajay: Deal of the day: SPARX Men's Ss0607g Sandal \\n https://amzn.in/d/15KKUAB\\n\", 'sanjay😁: Bhai main yahi book kiya subh\\n', 'Ajay: Maine bhi\\n', 'Ajay: Hii\\n', 'Ajay: Bhai vo aviater ka link share kar naa\\n', 'sanjay😁: Mat khel mc\\n', 'Ajay: Ar bhai\\n', 'Ajay: Bhej to\\n', 'Ajay: Dost ko chahiye\\n', 'sanjay😁: Do you want to unlock your ₹200 reward right away? Click the link https://in-api.aagame.io/invite/c/8O1YYLZ  and enter the referral code: 8O1YYLZ.\\n', 'sanjay😁: Kidhar pahucha re mc\\n', 'Ajay: Bhai sahganj\\n', 'sanjay😁: Kab tak pahuchega\\n', 'Ajay: 4.30 tek\\n', 'Ajay: Bhai tu chai nahi pilyaa lakin\\n', 'sanjay😁: Mc tu aaya hi nahi\\n', 'sanjay😁: Main rakha tha\\n', 'Ajay: Lavde\\n', 'Ajay: Train  chutt jatii tere chakar mai\\n', 'sanjay😁: Abey lavde ramchandra ke sath bhejta tha tujko\\n', 'Ajay: Bhai vo chutiya hai\\n', 'Ajay: Bola chal to aaya nahi j2\\n', 'sanjay😁: Are bhai o bola mereko uske pass paisa nahi tha\\n', 'sanjay😁: O kal gaya subah jhol karke laya 5000 to gaya\\n', 'sanjay😁: Chicken khila ke gaya\\n', 'Ajay: Bhai usne ajit ka koopar bechaa\\n', 'sanjay😁: 😃😅\\n', 'Ajay: Us din holiday thaa un log ka\\n', 'Ajay: Iske liye jadldi gaya voo\\n', 'sanjay😁: haa\\n', 'sanjay😁: Are charan\\n', 'Ajay: Ky bhai\\n', 'sanjay😁: Bhai 4 roti banaya tha bc 2 chuha keke bhag gaya\\n', 'sanjay😁: Khana khane baithe dekh rahe hai 2 hi roti hi hai\\n', 'Ajay: 🤣🤣🤣\\n', 'Ajay: Scem hoo gaya tere sath\\n', 'sanjay😁: Bhai paisa bhej\\n', 'Ajay: Kitna\\n', 'sanjay😁: Kitna kya 100 rs\\n', 'Ajay: Tuje chahiye\\n', 'sanjay😁: Cake ke liy\\n', 'Ajay: Lavdaa\\n', 'Ajay: Biryani merko milega ky\\n', 'sanjay😁: 😂\\n', 'sanjay😁: Bhai khaunga to main bhi nahi\\n', 'Ajay: Q be\\n', 'Ajay: Tu bhi mat de\\n', 'sanjay😁: Nahi kaunga be\\n', 'sanjay😁: Lavde cake hi nahi aa payega\\n', 'Ajay: 🤣🤣\\n', 'Ajay: Patel ko bol\\n', 'Ajay: Degaa pura\\n', 'sanjay😁: 😂\\n', 'sanjay😁: O to bol raha h nahi late hai\\n', 'Ajay: Sahi bol raha hai bhai\\n', 'sanjay😁: Chup mc\\n', 'sanjay😁: Sabke bady me laye hai\\n', 'Ajay: Bhai dekha naa biryani ka paisaa tum log ko he naa dena pade🤣🤣\\n', 'sanjay😁: 😂😂\\n', 'Ajay: Bhjtaa huu\\n', 'sanjay😁: Patel dega, isliy to main nahi jaa raha hu\\n', 'sanjay😁: Bhai patel paisa bhej ke chala gaya gadi pe\\n', 'sanjay😁: Aur bhaiya rikshe pe\\n', 'Ajay: Bhai tu fir akla he karegaa\\n', 'sanjay😁: Mujko bolte hai jaa ke cake laa\\n', 'Ajay: Basant rehegaa naa\\n', 'Ajay: Bhai fu ekla kaisaa jayegaa\\n', 'sanjay😁: Gaya kisi ko chhodne call kiya to bolta hai sion me hu\\n', 'Ajay: Lavde tu 1laa ky karegaa\\n', 'sanjay😁: Land jaa raha hu phone band karke sone\\n', 'Ajay: 🤣\\n', 'Ajay: Patel kab tek aaygaa\\n', 'sanjay😁: 11 300\\n', 'Ajay: Bhai tu ekla kaise jaayegaa\\n', 'sanjay😁: Land nahi jayega\\n', 'Ajay: Gaadi bhi nahi hai kisia legaa\\n', 'sanjay😁: Mc chudaye ye log\\n', 'Ajay: Bhai ye sochgaa ye log jaan buch ke kiye\\n', 'sanjay😁: Gand maraye\\n', 'Ajay: Jaane de bhai mai to bolta huu kisi ke sath jaake lake aaja\\n', 'Ajay: Janae de bhai\\n', 'sanjay😁: Land\\n', 'Ajay: Jaa bhai jaane de yaar\\n', 'Ajay: Abhi apne sath rehtaa hai ky karegaa\\n', 'sanjay😁: Maa chuda tu bhi\\n', 'sanjay😁: Itna socha to 100 rs bheja kyu nahi\\n', 'Ajay: Bhjaa naa bhai\\n', 'Ajay: Patel ko\\n', 'sanjay😁: Nahi bheja o mujhe\\n', 'Ajay: Bhai mai bhjaa thaa usay\\n', 'Ajay: Ruk tuje he bhjtaa huu\\n', 'Ajay: Patel se baad mai lelungaa\\n', 'sanjay😁: Nahi\\n', 'sanjay😁: Ruk abhi main bola usko\\n', 'sanjay😁: Bevda paisa nahi bheja to bolta hai main bhejta hu 100\\n', 'sanjay😁: Mujhe laga bhai o yahi de raha hai\\n', 'sanjay😁: Bola nahi ki tu bheja tha\\n', 'Ajay: Bhjaa dek\\n', 'sanjay😁: Bhejta hu\\n', 'sanjay😁: Patel bhej\\n', 'Ajay: Ky sanjay bhay\\n', 'Ajay: Ky hoo raha hai\\n', 'sanjay😁: Bhay tum to bhul gaye gav jaa ke\\n', 'Ajay: Nahi Bhai\\n', 'Ajay: Tumhe nahi bhul sakta\\n', 'sanjay😁: Haa mc\\n', 'sanjay😁: Kal train hai na\\n', 'Ajay: Haa bhai\\n', 'Ajay: Bahot garmi hai bc\\n', 'sanjay😁: Haa\\n', 'sanjay😁: Idhar bahot barish hai bhai\\n', 'Ajay: Bhai yaha barish ka namo nishan he nahi hai\\n', 'Ajay: Bhai ky laau tere liye bata yaha see\\n', 'sanjay😁: Kuch nahi bhai tu aaja bas\\n', 'Ajay: Bol naa bhai ky laau khane ke liye\\n', 'sanjay😁: Kya batau bhai\\n', 'sanjay😁: Namkin le lena yadav wali chai ke sath khayenge\\n', 'sanjay😁: 😂\\n', 'Ajay: Chal thik hai\\n', 'sanjay😁: Haa\\n', 'Ajay: Bhai aaj apne chacha ke maa chod diyaa ham log 😂😂\\n', 'sanjay😁: 😂\\n', 'sanjay😁: Kyu be\\n', 'Ajay: Aise hee\\n', 'Ajay: Pateli kar raha thaa\\n', 'sanjay😁: Chhod gand maraye o\\n', 'sanjay😁: Tum log aa jao\\n', 'Ajay: Haa\\n', 'sanjay😁: ha bhai nikla ki nahi\\n', 'Ajay: Station pe huu\\n', 'sanjay😁: thik\\n', 'sanjay😁: Kahan pahuchla charan\\n', 'Ajay: Bhai nashik pohcne vala huu\\n', 'sanjay😁: Bhai konsa train hai bahot jaldi aa raha hai\\n', 'Ajay: Godhan\\n', 'sanjay😁: chal aaja phir\\n', 'Ajay: Haa bhai\\n', 'Ajay: Deal of the day for Prime Members: boAt Airdopes 311 Pro TWS in-Ear Earbuds w/Up to 50 HRS Playtime, Dual Mics with ENx™ Tech, 50 ms low-latency BEAST™ Mode, ASAP™ Charging, IWP™ Tech(Active Black) \\n https://amzn.in/d/05jnbR0n\\n', 'Ajay: Bhai tere yaha dek buy ka option aa raha hai ky\\n', 'sanjay😁: Nahi\\n', 'Ajay: Stock mai nahi hai lagata hai\\n', 'sanjay😁: Haa\\n', 'sanjay😁: bhai kasam se mera pet dukh raha hai\\n', 'sanjay😁: kal o kha lena chahiy tha\\n', 'Ajay: Bhai mera bhi pat dhukk raha hai bc\\n', 'Ajay: Sach mai\\n', 'Ajay: Bathroom bahot patla hoo raha hai\\n', 'sanjay😁: 😂\\n', 'sanjay😁: Bhai aaj ke baad tangdi biryani nahi khayenge\\n', 'Ajay: Haa bhai\\n', 'Ajay: Bhai college mai hay yaa gher pe\\n', 'sanjay😁: clg\\n', 'Ajay: Hii\\n', 'Ajay: Bhai\\n', 'sanjay😁: Bol\\n', 'Ajay: Sangeta ko ladka huaa naa\\n', 'sanjay😁: Pata nahi bhai\\n', 'sanjay😁: Haan bhai ravindra ka status dekh\\n', 'Ajay: null\\n', 'sanjay😁: kya hua\\n', 'Ajay: Vada pav khaygaa\\n', 'sanjay😁: nahi bhai abhi chai piya\\n', 'sanjay😁: lele bhai\\n', 'sanjay😁: kha lunga\\n']\n"
     ]
    }
   ],
   "source": [
    "messages = re.split(pattern, data)[1:]\n",
    "print(messages)"
   ]
  },
  {
   "cell_type": "code",
   "execution_count": 31,
   "metadata": {},
   "outputs": [
    {
     "data": {
      "text/html": [
       "<div>\n",
       "<style scoped>\n",
       "    .dataframe tbody tr th:only-of-type {\n",
       "        vertical-align: middle;\n",
       "    }\n",
       "\n",
       "    .dataframe tbody tr th {\n",
       "        vertical-align: top;\n",
       "    }\n",
       "\n",
       "    .dataframe thead th {\n",
       "        text-align: right;\n",
       "    }\n",
       "</style>\n",
       "<table border=\"1\" class=\"dataframe\">\n",
       "  <thead>\n",
       "    <tr style=\"text-align: right;\">\n",
       "      <th></th>\n",
       "      <th>message</th>\n",
       "      <th>date</th>\n",
       "    </tr>\n",
       "  </thead>\n",
       "  <tbody>\n",
       "    <tr>\n",
       "      <th>0</th>\n",
       "      <td>Messages and calls are end-to-end encrypted. N...</td>\n",
       "      <td>23/03/2024, 10:45 am -</td>\n",
       "    </tr>\n",
       "    <tr>\n",
       "      <th>1</th>\n",
       "      <td>sanjay😁: Waiting for this message\\n</td>\n",
       "      <td>05/03/2024, 8:49 am -</td>\n",
       "    </tr>\n",
       "    <tr>\n",
       "      <th>2</th>\n",
       "      <td>Ajay: Waiting for this message\\n</td>\n",
       "      <td>05/03/2024, 8:50 am -</td>\n",
       "    </tr>\n",
       "    <tr>\n",
       "      <th>3</th>\n",
       "      <td>Ajay: &lt;Media omitted&gt;\\n</td>\n",
       "      <td>23/03/2024, 6:52 pm -</td>\n",
       "    </tr>\n",
       "    <tr>\n",
       "      <th>4</th>\n",
       "      <td>Ajay: Shrikant narsayya malga\\n</td>\n",
       "      <td>23/03/2024, 6:52 pm -</td>\n",
       "    </tr>\n",
       "    <tr>\n",
       "      <th>...</th>\n",
       "      <td>...</td>\n",
       "      <td>...</td>\n",
       "    </tr>\n",
       "    <tr>\n",
       "      <th>270</th>\n",
       "      <td>sanjay😁: kya hua\\n</td>\n",
       "      <td>25/07/2024, 6:49 pm -</td>\n",
       "    </tr>\n",
       "    <tr>\n",
       "      <th>271</th>\n",
       "      <td>Ajay: Vada pav khaygaa\\n</td>\n",
       "      <td>25/07/2024, 6:49 pm -</td>\n",
       "    </tr>\n",
       "    <tr>\n",
       "      <th>272</th>\n",
       "      <td>sanjay😁: nahi bhai abhi chai piya\\n</td>\n",
       "      <td>25/07/2024, 6:49 pm -</td>\n",
       "    </tr>\n",
       "    <tr>\n",
       "      <th>273</th>\n",
       "      <td>sanjay😁: lele bhai\\n</td>\n",
       "      <td>25/07/2024, 6:50 pm -</td>\n",
       "    </tr>\n",
       "    <tr>\n",
       "      <th>274</th>\n",
       "      <td>sanjay😁: kha lunga\\n</td>\n",
       "      <td>25/07/2024, 6:51 pm -</td>\n",
       "    </tr>\n",
       "  </tbody>\n",
       "</table>\n",
       "<p>275 rows × 2 columns</p>\n",
       "</div>"
      ],
      "text/plain": [
       "                                               message  \\\n",
       "0    Messages and calls are end-to-end encrypted. N...   \n",
       "1                  sanjay😁: Waiting for this message\\n   \n",
       "2                     Ajay: Waiting for this message\\n   \n",
       "3                              Ajay: <Media omitted>\\n   \n",
       "4                      Ajay: Shrikant narsayya malga\\n   \n",
       "..                                                 ...   \n",
       "270                                 sanjay😁: kya hua\\n   \n",
       "271                           Ajay: Vada pav khaygaa\\n   \n",
       "272                sanjay😁: nahi bhai abhi chai piya\\n   \n",
       "273                               sanjay😁: lele bhai\\n   \n",
       "274                               sanjay😁: kha lunga\\n   \n",
       "\n",
       "                        date  \n",
       "0    23/03/2024, 10:45 am -   \n",
       "1     05/03/2024, 8:49 am -   \n",
       "2     05/03/2024, 8:50 am -   \n",
       "3     23/03/2024, 6:52 pm -   \n",
       "4     23/03/2024, 6:52 pm -   \n",
       "..                       ...  \n",
       "270   25/07/2024, 6:49 pm -   \n",
       "271   25/07/2024, 6:49 pm -   \n",
       "272   25/07/2024, 6:49 pm -   \n",
       "273   25/07/2024, 6:50 pm -   \n",
       "274   25/07/2024, 6:51 pm -   \n",
       "\n",
       "[275 rows x 2 columns]"
      ]
     },
     "execution_count": 31,
     "metadata": {},
     "output_type": "execute_result"
    }
   ],
   "source": [
    "df = pd.DataFrame({'message':messages,'date':dates})\n",
    "df"
   ]
  },
  {
   "cell_type": "code",
   "execution_count": 32,
   "metadata": {},
   "outputs": [],
   "source": [
    "def date_parser(date_str):\n",
    "    date_str = date_str.rstrip(' -')\n",
    "    try:\n",
    "        # Try parsing with the first format\n",
    "        return pd.to_datetime(date_str, format=\"%d/%m/%Y, %I:%M %p\")\n",
    "    except ValueError:\n",
    "        # If it fails, try parsing with the second format\n",
    "        return pd.to_datetime(date_str, format=\"%m/%d/%y, %I:%M %p\")"
   ]
  },
  {
   "cell_type": "code",
   "execution_count": 63,
   "metadata": {},
   "outputs": [],
   "source": [
    "# def date_parser(date_str):\n",
    "#     # Remove the trailing hyphen and space\n",
    "#     date_str = date_str.rstrip(' -')\n",
    "#     return pd.to_datetime(date_str, format=\"%d/%m/%Y, %I:%M %p\")"
   ]
  },
  {
   "cell_type": "code",
   "execution_count": 33,
   "metadata": {},
   "outputs": [
    {
     "data": {
      "text/plain": [
       "0     2024-03-23 10:45:00\n",
       "1     2024-03-05 08:49:00\n",
       "2     2024-03-05 08:50:00\n",
       "3     2024-03-23 18:52:00\n",
       "4     2024-03-23 18:52:00\n",
       "              ...        \n",
       "270   2024-07-25 18:49:00\n",
       "271   2024-07-25 18:49:00\n",
       "272   2024-07-25 18:49:00\n",
       "273   2024-07-25 18:50:00\n",
       "274   2024-07-25 18:51:00\n",
       "Name: date, Length: 275, dtype: datetime64[ns]"
      ]
     },
     "execution_count": 33,
     "metadata": {},
     "output_type": "execute_result"
    }
   ],
   "source": [
    "df['date'].apply(date_parser)"
   ]
  },
  {
   "cell_type": "code",
   "execution_count": 69,
   "metadata": {},
   "outputs": [
    {
     "data": {
      "text/html": [
       "<div>\n",
       "<style scoped>\n",
       "    .dataframe tbody tr th:only-of-type {\n",
       "        vertical-align: middle;\n",
       "    }\n",
       "\n",
       "    .dataframe tbody tr th {\n",
       "        vertical-align: top;\n",
       "    }\n",
       "\n",
       "    .dataframe thead th {\n",
       "        text-align: right;\n",
       "    }\n",
       "</style>\n",
       "<table border=\"1\" class=\"dataframe\">\n",
       "  <thead>\n",
       "    <tr style=\"text-align: right;\">\n",
       "      <th></th>\n",
       "      <th>message</th>\n",
       "      <th>date</th>\n",
       "    </tr>\n",
       "  </thead>\n",
       "  <tbody>\n",
       "    <tr>\n",
       "      <th>0</th>\n",
       "      <td>Messages and calls are end-to-end encrypted. N...</td>\n",
       "      <td>2024-03-23 10:45:00</td>\n",
       "    </tr>\n",
       "    <tr>\n",
       "      <th>1</th>\n",
       "      <td>sanjay😁: Waiting for this message\\n</td>\n",
       "      <td>2024-03-05 08:23:00</td>\n",
       "    </tr>\n",
       "    <tr>\n",
       "      <th>2</th>\n",
       "      <td>Shifa: Waiting for this message\\n</td>\n",
       "      <td>2024-03-04 23:14:00</td>\n",
       "    </tr>\n",
       "    <tr>\n",
       "      <th>3</th>\n",
       "      <td>Shifa: Waiting for this message\\n</td>\n",
       "      <td>2024-03-04 23:15:00</td>\n",
       "    </tr>\n",
       "    <tr>\n",
       "      <th>4</th>\n",
       "      <td>sanjay😁: Waiting for this message\\n</td>\n",
       "      <td>2024-03-05 18:16:00</td>\n",
       "    </tr>\n",
       "    <tr>\n",
       "      <th>...</th>\n",
       "      <td>...</td>\n",
       "      <td>...</td>\n",
       "    </tr>\n",
       "    <tr>\n",
       "      <th>5093</th>\n",
       "      <td>sanjay😁: Chal thik hai\\n</td>\n",
       "      <td>2024-07-28 02:05:00</td>\n",
       "    </tr>\n",
       "    <tr>\n",
       "      <th>5094</th>\n",
       "      <td>sanjay😁: Goodnight 💤\\n</td>\n",
       "      <td>2024-07-28 02:05:00</td>\n",
       "    </tr>\n",
       "    <tr>\n",
       "      <th>5095</th>\n",
       "      <td>Shifa: 😂😂 me Sochi bolun ki nhi \\nMe to nhi so...</td>\n",
       "      <td>2024-07-28 02:06:00</td>\n",
       "    </tr>\n",
       "    <tr>\n",
       "      <th>5096</th>\n",
       "      <td>Shifa: Good night 😄\\n</td>\n",
       "      <td>2024-07-28 02:06:00</td>\n",
       "    </tr>\n",
       "    <tr>\n",
       "      <th>5097</th>\n",
       "      <td>sanjay😁: 💫\\n</td>\n",
       "      <td>2024-07-28 02:06:00</td>\n",
       "    </tr>\n",
       "  </tbody>\n",
       "</table>\n",
       "<p>5098 rows × 2 columns</p>\n",
       "</div>"
      ],
      "text/plain": [
       "                                                message                date\n",
       "0     Messages and calls are end-to-end encrypted. N... 2024-03-23 10:45:00\n",
       "1                   sanjay😁: Waiting for this message\\n 2024-03-05 08:23:00\n",
       "2                     Shifa: Waiting for this message\\n 2024-03-04 23:14:00\n",
       "3                     Shifa: Waiting for this message\\n 2024-03-04 23:15:00\n",
       "4                   sanjay😁: Waiting for this message\\n 2024-03-05 18:16:00\n",
       "...                                                 ...                 ...\n",
       "5093                           sanjay😁: Chal thik hai\\n 2024-07-28 02:05:00\n",
       "5094                             sanjay😁: Goodnight 💤\\n 2024-07-28 02:05:00\n",
       "5095  Shifa: 😂😂 me Sochi bolun ki nhi \\nMe to nhi so... 2024-07-28 02:06:00\n",
       "5096                              Shifa: Good night 😄\\n 2024-07-28 02:06:00\n",
       "5097                                       sanjay😁: 💫\\n 2024-07-28 02:06:00\n",
       "\n",
       "[5098 rows x 2 columns]"
      ]
     },
     "execution_count": 69,
     "metadata": {},
     "output_type": "execute_result"
    }
   ],
   "source": [
    "df"
   ]
  },
  {
   "cell_type": "code",
   "execution_count": 12,
   "metadata": {},
   "outputs": [
    {
     "data": {
      "text/plain": [
       "2918                      [Shifa,  4, 30 bje uthi thi\\n]\n",
       "1265                       [Shifa,  ADR classify krke\\n]\n",
       "4255                 [sanjay😁,  tujhe baat nahi karni\\n]\n",
       "3899                                    [sanjay😁,  ha\\n]\n",
       "3391                                  [sanjay😁,  Thik\\n]\n",
       "4110    [Shifa,  Wo kuch to umid krte honge na tujhse\\n]\n",
       "3992                               [Shifa,  Hta dun ?\\n]\n",
       "Name: message, dtype: object"
      ]
     },
     "execution_count": 12,
     "metadata": {},
     "output_type": "execute_result"
    }
   ],
   "source": [
    "df['message'].str.split(\":\").sample(7)"
   ]
  },
  {
   "cell_type": "code",
   "execution_count": 70,
   "metadata": {},
   "outputs": [],
   "source": [
    "\n",
    "\n",
    "user = []\n",
    "messages = []\n",
    "for msg in df['message']:\n",
    "    l = msg.split(\":\")\n",
    "    if len(l) == 1:\n",
    "        user.append(\"group_notification\")\n",
    "        messages.append(l[0])\n",
    "    elif len(l) >=2:\n",
    "        user.append(l[0])\n",
    "        messages.append(l[1])\n",
    "df['user'] = user\n",
    "df['message'] = messages\n"
   ]
  },
  {
   "cell_type": "code",
   "execution_count": 14,
   "metadata": {},
   "outputs": [
    {
     "data": {
      "text/html": [
       "<div>\n",
       "<style scoped>\n",
       "    .dataframe tbody tr th:only-of-type {\n",
       "        vertical-align: middle;\n",
       "    }\n",
       "\n",
       "    .dataframe tbody tr th {\n",
       "        vertical-align: top;\n",
       "    }\n",
       "\n",
       "    .dataframe thead th {\n",
       "        text-align: right;\n",
       "    }\n",
       "</style>\n",
       "<table border=\"1\" class=\"dataframe\">\n",
       "  <thead>\n",
       "    <tr style=\"text-align: right;\">\n",
       "      <th></th>\n",
       "      <th>message</th>\n",
       "      <th>date</th>\n",
       "      <th>user</th>\n",
       "    </tr>\n",
       "  </thead>\n",
       "  <tbody>\n",
       "    <tr>\n",
       "      <th>4144</th>\n",
       "      <td>Are nahi vahi cake leke aaya to dost de raha ...</td>\n",
       "      <td>2024-11-07 22:59:00</td>\n",
       "      <td>sanjay😁</td>\n",
       "    </tr>\n",
       "    <tr>\n",
       "      <th>4463</th>\n",
       "      <td>Badiya\\n</td>\n",
       "      <td>2024-07-16 21:05:00</td>\n",
       "      <td>sanjay😁</td>\n",
       "    </tr>\n",
       "    <tr>\n",
       "      <th>1682</th>\n",
       "      <td>Thik*\\n</td>\n",
       "      <td>2024-06-06 22:55:00</td>\n",
       "      <td>sanjay😁</td>\n",
       "    </tr>\n",
       "    <tr>\n",
       "      <th>2768</th>\n",
       "      <td>😂😂\\n</td>\n",
       "      <td>2024-12-06 02:32:00</td>\n",
       "      <td>Shifa</td>\n",
       "    </tr>\n",
       "    <tr>\n",
       "      <th>2242</th>\n",
       "      <td>Haa ye raat bhar jaag ke padh ke aake exam de...</td>\n",
       "      <td>2024-12-06 00:42:00</td>\n",
       "      <td>sanjay😁</td>\n",
       "    </tr>\n",
       "    <tr>\n",
       "      <th>696</th>\n",
       "      <td>Abhi just , anniversary wish karne phone li\\n</td>\n",
       "      <td>2024-05-05 00:04:00</td>\n",
       "      <td>Shifa</td>\n",
       "    </tr>\n",
       "    <tr>\n",
       "      <th>3686</th>\n",
       "      <td>Itna zyada typing\\n</td>\n",
       "      <td>2024-02-07 22:39:00</td>\n",
       "      <td>Shifa</td>\n",
       "    </tr>\n",
       "    <tr>\n",
       "      <th>1542</th>\n",
       "      <td>Gali Diya tha ?\\n</td>\n",
       "      <td>2024-04-06 20:34:00</td>\n",
       "      <td>Shifa</td>\n",
       "    </tr>\n",
       "    <tr>\n",
       "      <th>710</th>\n",
       "      <td>Jaha se course karegi\\n</td>\n",
       "      <td>2024-06-05 19:29:00</td>\n",
       "      <td>sanjay😁</td>\n",
       "    </tr>\n",
       "    <tr>\n",
       "      <th>1489</th>\n",
       "      <td>Kuch changes karu shifa\\n</td>\n",
       "      <td>2024-02-06 12:57:00</td>\n",
       "      <td>sanjay😁</td>\n",
       "    </tr>\n",
       "  </tbody>\n",
       "</table>\n",
       "</div>"
      ],
      "text/plain": [
       "                                                message                date  \\\n",
       "4144   Are nahi vahi cake leke aaya to dost de raha ... 2024-11-07 22:59:00   \n",
       "4463                                           Badiya\\n 2024-07-16 21:05:00   \n",
       "1682                                            Thik*\\n 2024-06-06 22:55:00   \n",
       "2768                                               😂😂\\n 2024-12-06 02:32:00   \n",
       "2242   Haa ye raat bhar jaag ke padh ke aake exam de... 2024-12-06 00:42:00   \n",
       "696       Abhi just , anniversary wish karne phone li\\n 2024-05-05 00:04:00   \n",
       "3686                                Itna zyada typing\\n 2024-02-07 22:39:00   \n",
       "1542                                  Gali Diya tha ?\\n 2024-04-06 20:34:00   \n",
       "710                             Jaha se course karegi\\n 2024-06-05 19:29:00   \n",
       "1489                          Kuch changes karu shifa\\n 2024-02-06 12:57:00   \n",
       "\n",
       "         user  \n",
       "4144  sanjay😁  \n",
       "4463  sanjay😁  \n",
       "1682  sanjay😁  \n",
       "2768    Shifa  \n",
       "2242  sanjay😁  \n",
       "696     Shifa  \n",
       "3686    Shifa  \n",
       "1542    Shifa  \n",
       "710   sanjay😁  \n",
       "1489  sanjay😁  "
      ]
     },
     "execution_count": 14,
     "metadata": {},
     "output_type": "execute_result"
    }
   ],
   "source": [
    "df.sample(10)"
   ]
  },
  {
   "cell_type": "code",
   "execution_count": 71,
   "metadata": {},
   "outputs": [],
   "source": [
    "df['month'] = df['date'].dt.month_name()"
   ]
  },
  {
   "cell_type": "code",
   "execution_count": 72,
   "metadata": {},
   "outputs": [],
   "source": [
    "df['year'] = df['date'].dt.year"
   ]
  },
  {
   "cell_type": "code",
   "execution_count": 74,
   "metadata": {},
   "outputs": [],
   "source": [
    "df['day'] = df['date'].dt.day"
   ]
  },
  {
   "cell_type": "code",
   "execution_count": 75,
   "metadata": {},
   "outputs": [],
   "source": [
    "df['hour'] = df['date'].dt.hour"
   ]
  },
  {
   "cell_type": "code",
   "execution_count": 76,
   "metadata": {},
   "outputs": [],
   "source": [
    "df['minute'] = df['date'].dt.minute"
   ]
  },
  {
   "cell_type": "code",
   "execution_count": 77,
   "metadata": {},
   "outputs": [
    {
     "data": {
      "text/html": [
       "<div>\n",
       "<style scoped>\n",
       "    .dataframe tbody tr th:only-of-type {\n",
       "        vertical-align: middle;\n",
       "    }\n",
       "\n",
       "    .dataframe tbody tr th {\n",
       "        vertical-align: top;\n",
       "    }\n",
       "\n",
       "    .dataframe thead th {\n",
       "        text-align: right;\n",
       "    }\n",
       "</style>\n",
       "<table border=\"1\" class=\"dataframe\">\n",
       "  <thead>\n",
       "    <tr style=\"text-align: right;\">\n",
       "      <th></th>\n",
       "      <th>message</th>\n",
       "      <th>date</th>\n",
       "      <th>user</th>\n",
       "      <th>month</th>\n",
       "      <th>year</th>\n",
       "      <th>day</th>\n",
       "      <th>hour</th>\n",
       "      <th>minute</th>\n",
       "    </tr>\n",
       "  </thead>\n",
       "  <tbody>\n",
       "    <tr>\n",
       "      <th>0</th>\n",
       "      <td>Messages and calls are end-to-end encrypted. N...</td>\n",
       "      <td>2024-03-23 10:45:00</td>\n",
       "      <td>group_notification</td>\n",
       "      <td>March</td>\n",
       "      <td>2024</td>\n",
       "      <td>23</td>\n",
       "      <td>10</td>\n",
       "      <td>45</td>\n",
       "    </tr>\n",
       "    <tr>\n",
       "      <th>1</th>\n",
       "      <td>Waiting for this message\\n</td>\n",
       "      <td>2024-03-05 08:23:00</td>\n",
       "      <td>sanjay😁</td>\n",
       "      <td>March</td>\n",
       "      <td>2024</td>\n",
       "      <td>5</td>\n",
       "      <td>8</td>\n",
       "      <td>23</td>\n",
       "    </tr>\n",
       "    <tr>\n",
       "      <th>2</th>\n",
       "      <td>Waiting for this message\\n</td>\n",
       "      <td>2024-03-04 23:14:00</td>\n",
       "      <td>Shifa</td>\n",
       "      <td>March</td>\n",
       "      <td>2024</td>\n",
       "      <td>4</td>\n",
       "      <td>23</td>\n",
       "      <td>14</td>\n",
       "    </tr>\n",
       "    <tr>\n",
       "      <th>3</th>\n",
       "      <td>Waiting for this message\\n</td>\n",
       "      <td>2024-03-04 23:15:00</td>\n",
       "      <td>Shifa</td>\n",
       "      <td>March</td>\n",
       "      <td>2024</td>\n",
       "      <td>4</td>\n",
       "      <td>23</td>\n",
       "      <td>15</td>\n",
       "    </tr>\n",
       "    <tr>\n",
       "      <th>4</th>\n",
       "      <td>Waiting for this message\\n</td>\n",
       "      <td>2024-03-05 18:16:00</td>\n",
       "      <td>sanjay😁</td>\n",
       "      <td>March</td>\n",
       "      <td>2024</td>\n",
       "      <td>5</td>\n",
       "      <td>18</td>\n",
       "      <td>16</td>\n",
       "    </tr>\n",
       "    <tr>\n",
       "      <th>...</th>\n",
       "      <td>...</td>\n",
       "      <td>...</td>\n",
       "      <td>...</td>\n",
       "      <td>...</td>\n",
       "      <td>...</td>\n",
       "      <td>...</td>\n",
       "      <td>...</td>\n",
       "      <td>...</td>\n",
       "    </tr>\n",
       "    <tr>\n",
       "      <th>5093</th>\n",
       "      <td>Chal thik hai\\n</td>\n",
       "      <td>2024-07-28 02:05:00</td>\n",
       "      <td>sanjay😁</td>\n",
       "      <td>July</td>\n",
       "      <td>2024</td>\n",
       "      <td>28</td>\n",
       "      <td>2</td>\n",
       "      <td>5</td>\n",
       "    </tr>\n",
       "    <tr>\n",
       "      <th>5094</th>\n",
       "      <td>Goodnight 💤\\n</td>\n",
       "      <td>2024-07-28 02:05:00</td>\n",
       "      <td>sanjay😁</td>\n",
       "      <td>July</td>\n",
       "      <td>2024</td>\n",
       "      <td>28</td>\n",
       "      <td>2</td>\n",
       "      <td>5</td>\n",
       "    </tr>\n",
       "    <tr>\n",
       "      <th>5095</th>\n",
       "      <td>😂😂 me Sochi bolun ki nhi \\nMe to nhi soungi t...</td>\n",
       "      <td>2024-07-28 02:06:00</td>\n",
       "      <td>Shifa</td>\n",
       "      <td>July</td>\n",
       "      <td>2024</td>\n",
       "      <td>28</td>\n",
       "      <td>2</td>\n",
       "      <td>6</td>\n",
       "    </tr>\n",
       "    <tr>\n",
       "      <th>5096</th>\n",
       "      <td>Good night 😄\\n</td>\n",
       "      <td>2024-07-28 02:06:00</td>\n",
       "      <td>Shifa</td>\n",
       "      <td>July</td>\n",
       "      <td>2024</td>\n",
       "      <td>28</td>\n",
       "      <td>2</td>\n",
       "      <td>6</td>\n",
       "    </tr>\n",
       "    <tr>\n",
       "      <th>5097</th>\n",
       "      <td>💫\\n</td>\n",
       "      <td>2024-07-28 02:06:00</td>\n",
       "      <td>sanjay😁</td>\n",
       "      <td>July</td>\n",
       "      <td>2024</td>\n",
       "      <td>28</td>\n",
       "      <td>2</td>\n",
       "      <td>6</td>\n",
       "    </tr>\n",
       "  </tbody>\n",
       "</table>\n",
       "<p>5098 rows × 8 columns</p>\n",
       "</div>"
      ],
      "text/plain": [
       "                                                message                date  \\\n",
       "0     Messages and calls are end-to-end encrypted. N... 2024-03-23 10:45:00   \n",
       "1                            Waiting for this message\\n 2024-03-05 08:23:00   \n",
       "2                            Waiting for this message\\n 2024-03-04 23:14:00   \n",
       "3                            Waiting for this message\\n 2024-03-04 23:15:00   \n",
       "4                            Waiting for this message\\n 2024-03-05 18:16:00   \n",
       "...                                                 ...                 ...   \n",
       "5093                                    Chal thik hai\\n 2024-07-28 02:05:00   \n",
       "5094                                      Goodnight 💤\\n 2024-07-28 02:05:00   \n",
       "5095   😂😂 me Sochi bolun ki nhi \\nMe to nhi soungi t... 2024-07-28 02:06:00   \n",
       "5096                                     Good night 😄\\n 2024-07-28 02:06:00   \n",
       "5097                                                💫\\n 2024-07-28 02:06:00   \n",
       "\n",
       "                    user  month  year  day  hour  minute  \n",
       "0     group_notification  March  2024   23    10      45  \n",
       "1                sanjay😁  March  2024    5     8      23  \n",
       "2                  Shifa  March  2024    4    23      14  \n",
       "3                  Shifa  March  2024    4    23      15  \n",
       "4                sanjay😁  March  2024    5    18      16  \n",
       "...                  ...    ...   ...  ...   ...     ...  \n",
       "5093             sanjay😁   July  2024   28     2       5  \n",
       "5094             sanjay😁   July  2024   28     2       5  \n",
       "5095               Shifa   July  2024   28     2       6  \n",
       "5096               Shifa   July  2024   28     2       6  \n",
       "5097             sanjay😁   July  2024   28     2       6  \n",
       "\n",
       "[5098 rows x 8 columns]"
      ]
     },
     "execution_count": 77,
     "metadata": {},
     "output_type": "execute_result"
    }
   ],
   "source": [
    "df"
   ]
  },
  {
   "cell_type": "code",
   "execution_count": 21,
   "metadata": {},
   "outputs": [
    {
     "data": {
      "text/plain": [
       "['group_notification',\n",
       " 'Shifa',\n",
       " 'Sheetal',\n",
       " 'Pranjal Dada',\n",
       " 'sanjay😁',\n",
       " 'Ajayraj Pasi',\n",
       " '+91 81045 47808']"
      ]
     },
     "execution_count": 21,
     "metadata": {},
     "output_type": "execute_result"
    }
   ],
   "source": [
    "df['user'].unique().tolist()"
   ]
  },
  {
   "cell_type": "code",
   "execution_count": 22,
   "metadata": {},
   "outputs": [],
   "source": [
    "words = []\n",
    "for msg in df['message']:\n",
    "    words.extend(msg.split())"
   ]
  },
  {
   "cell_type": "code",
   "execution_count": 23,
   "metadata": {},
   "outputs": [
    {
     "data": {
      "text/plain": [
       "3121"
      ]
     },
     "execution_count": 23,
     "metadata": {},
     "output_type": "execute_result"
    }
   ],
   "source": [
    "len(words)"
   ]
  },
  {
   "cell_type": "code",
   "execution_count": 24,
   "metadata": {},
   "outputs": [
    {
     "data": {
      "text/plain": [
       "226                             Hame pay karna hai kya\\n\n",
       "201                                             10 min\\n\n",
       "30                                                 Gaa\\n\n",
       "89      @918828069519 kal ka kya karna hai ma'am rahe...\n",
       "313     Thike shradha bhi kal ayegi to tabhi baat kar...\n",
       "254     2 aur ready huye to ham return gift de sakte ...\n",
       "Name: message, dtype: object"
      ]
     },
     "execution_count": 24,
     "metadata": {},
     "output_type": "execute_result"
    }
   ],
   "source": [
    "df['message'].sample(6)"
   ]
  },
  {
   "cell_type": "code",
   "execution_count": 25,
   "metadata": {},
   "outputs": [
    {
     "data": {
      "text/html": [
       "<div>\n",
       "<style scoped>\n",
       "    .dataframe tbody tr th:only-of-type {\n",
       "        vertical-align: middle;\n",
       "    }\n",
       "\n",
       "    .dataframe tbody tr th {\n",
       "        vertical-align: top;\n",
       "    }\n",
       "\n",
       "    .dataframe thead th {\n",
       "        text-align: right;\n",
       "    }\n",
       "</style>\n",
       "<table border=\"1\" class=\"dataframe\">\n",
       "  <thead>\n",
       "    <tr style=\"text-align: right;\">\n",
       "      <th></th>\n",
       "      <th>message</th>\n",
       "      <th>date</th>\n",
       "      <th>user</th>\n",
       "      <th>month</th>\n",
       "      <th>year</th>\n",
       "      <th>day</th>\n",
       "      <th>hour</th>\n",
       "      <th>minute</th>\n",
       "    </tr>\n",
       "  </thead>\n",
       "  <tbody>\n",
       "    <tr>\n",
       "      <th>156</th>\n",
       "      <td>&lt;Media omitted&gt;\\n</td>\n",
       "      <td>2024-04-19 23:48:00</td>\n",
       "      <td>Pranjal Dada</td>\n",
       "      <td>April</td>\n",
       "      <td>2024</td>\n",
       "      <td>19</td>\n",
       "      <td>23</td>\n",
       "      <td>48</td>\n",
       "    </tr>\n",
       "    <tr>\n",
       "      <th>205</th>\n",
       "      <td>&lt;Media omitted&gt;\\n</td>\n",
       "      <td>2024-04-30 08:55:00</td>\n",
       "      <td>Pranjal Dada</td>\n",
       "      <td>April</td>\n",
       "      <td>2024</td>\n",
       "      <td>30</td>\n",
       "      <td>8</td>\n",
       "      <td>55</td>\n",
       "    </tr>\n",
       "    <tr>\n",
       "      <th>395</th>\n",
       "      <td>&lt;Media omitted&gt;\\n</td>\n",
       "      <td>2024-02-05 00:13:00</td>\n",
       "      <td>Shifa</td>\n",
       "      <td>February</td>\n",
       "      <td>2024</td>\n",
       "      <td>5</td>\n",
       "      <td>0</td>\n",
       "      <td>13</td>\n",
       "    </tr>\n",
       "    <tr>\n",
       "      <th>402</th>\n",
       "      <td>&lt;Media omitted&gt;\\n</td>\n",
       "      <td>2024-02-05 00:28:00</td>\n",
       "      <td>Shifa</td>\n",
       "      <td>February</td>\n",
       "      <td>2024</td>\n",
       "      <td>5</td>\n",
       "      <td>0</td>\n",
       "      <td>28</td>\n",
       "    </tr>\n",
       "    <tr>\n",
       "      <th>403</th>\n",
       "      <td>&lt;Media omitted&gt;\\n</td>\n",
       "      <td>2024-02-05 01:26:00</td>\n",
       "      <td>Shifa</td>\n",
       "      <td>February</td>\n",
       "      <td>2024</td>\n",
       "      <td>5</td>\n",
       "      <td>1</td>\n",
       "      <td>26</td>\n",
       "    </tr>\n",
       "    <tr>\n",
       "      <th>405</th>\n",
       "      <td>&lt;Media omitted&gt;\\n</td>\n",
       "      <td>2024-02-05 10:38:00</td>\n",
       "      <td>Pranjal Dada</td>\n",
       "      <td>February</td>\n",
       "      <td>2024</td>\n",
       "      <td>5</td>\n",
       "      <td>10</td>\n",
       "      <td>38</td>\n",
       "    </tr>\n",
       "    <tr>\n",
       "      <th>437</th>\n",
       "      <td>&lt;Media omitted&gt;\\n</td>\n",
       "      <td>2024-03-05 13:23:00</td>\n",
       "      <td>Shifa</td>\n",
       "      <td>March</td>\n",
       "      <td>2024</td>\n",
       "      <td>5</td>\n",
       "      <td>13</td>\n",
       "      <td>23</td>\n",
       "    </tr>\n",
       "    <tr>\n",
       "      <th>438</th>\n",
       "      <td>&lt;Media omitted&gt;\\n</td>\n",
       "      <td>2024-03-05 13:25:00</td>\n",
       "      <td>Shifa</td>\n",
       "      <td>March</td>\n",
       "      <td>2024</td>\n",
       "      <td>5</td>\n",
       "      <td>13</td>\n",
       "      <td>25</td>\n",
       "    </tr>\n",
       "    <tr>\n",
       "      <th>470</th>\n",
       "      <td>&lt;Media omitted&gt;\\n</td>\n",
       "      <td>2024-03-05 18:10:00</td>\n",
       "      <td>Sheetal</td>\n",
       "      <td>March</td>\n",
       "      <td>2024</td>\n",
       "      <td>5</td>\n",
       "      <td>18</td>\n",
       "      <td>10</td>\n",
       "    </tr>\n",
       "    <tr>\n",
       "      <th>475</th>\n",
       "      <td>&lt;Media omitted&gt;\\n</td>\n",
       "      <td>2024-04-05 23:30:00</td>\n",
       "      <td>Ajayraj Pasi</td>\n",
       "      <td>April</td>\n",
       "      <td>2024</td>\n",
       "      <td>5</td>\n",
       "      <td>23</td>\n",
       "      <td>30</td>\n",
       "    </tr>\n",
       "    <tr>\n",
       "      <th>477</th>\n",
       "      <td>&lt;Media omitted&gt;\\n</td>\n",
       "      <td>2024-06-05 12:15:00</td>\n",
       "      <td>Pranjal Dada</td>\n",
       "      <td>June</td>\n",
       "      <td>2024</td>\n",
       "      <td>5</td>\n",
       "      <td>12</td>\n",
       "      <td>15</td>\n",
       "    </tr>\n",
       "    <tr>\n",
       "      <th>487</th>\n",
       "      <td>&lt;Media omitted&gt;\\n</td>\n",
       "      <td>2024-07-14 12:54:00</td>\n",
       "      <td>Ajayraj Pasi</td>\n",
       "      <td>July</td>\n",
       "      <td>2024</td>\n",
       "      <td>14</td>\n",
       "      <td>12</td>\n",
       "      <td>54</td>\n",
       "    </tr>\n",
       "  </tbody>\n",
       "</table>\n",
       "</div>"
      ],
      "text/plain": [
       "                message                date          user     month  year  \\\n",
       "156   <Media omitted>\\n 2024-04-19 23:48:00  Pranjal Dada     April  2024   \n",
       "205   <Media omitted>\\n 2024-04-30 08:55:00  Pranjal Dada     April  2024   \n",
       "395   <Media omitted>\\n 2024-02-05 00:13:00         Shifa  February  2024   \n",
       "402   <Media omitted>\\n 2024-02-05 00:28:00         Shifa  February  2024   \n",
       "403   <Media omitted>\\n 2024-02-05 01:26:00         Shifa  February  2024   \n",
       "405   <Media omitted>\\n 2024-02-05 10:38:00  Pranjal Dada  February  2024   \n",
       "437   <Media omitted>\\n 2024-03-05 13:23:00         Shifa     March  2024   \n",
       "438   <Media omitted>\\n 2024-03-05 13:25:00         Shifa     March  2024   \n",
       "470   <Media omitted>\\n 2024-03-05 18:10:00       Sheetal     March  2024   \n",
       "475   <Media omitted>\\n 2024-04-05 23:30:00  Ajayraj Pasi     April  2024   \n",
       "477   <Media omitted>\\n 2024-06-05 12:15:00  Pranjal Dada      June  2024   \n",
       "487   <Media omitted>\\n 2024-07-14 12:54:00  Ajayraj Pasi      July  2024   \n",
       "\n",
       "     day  hour  minute  \n",
       "156   19    23      48  \n",
       "205   30     8      55  \n",
       "395    5     0      13  \n",
       "402    5     0      28  \n",
       "403    5     1      26  \n",
       "405    5    10      38  \n",
       "437    5    13      23  \n",
       "438    5    13      25  \n",
       "470    5    18      10  \n",
       "475    5    23      30  \n",
       "477    5    12      15  \n",
       "487   14    12      54  "
      ]
     },
     "execution_count": 25,
     "metadata": {},
     "output_type": "execute_result"
    }
   ],
   "source": [
    "df[df['message'] == \" <Media omitted>\\n\"]"
   ]
  },
  {
   "cell_type": "code",
   "execution_count": 26,
   "metadata": {},
   "outputs": [
    {
     "data": {
      "text/plain": [
       "['www.google.com', 'https://www.facebook.com']"
      ]
     },
     "execution_count": 26,
     "metadata": {},
     "output_type": "execute_result"
    }
   ],
   "source": [
    "from urlextract import URLExtract\n",
    "uext = URLExtract()\n",
    "uext.find_urls(\"hello www.google.com from https://www.facebook.com\")"
   ]
  },
  {
   "cell_type": "code",
   "execution_count": 27,
   "metadata": {},
   "outputs": [],
   "source": [
    "from urlextract import URLExtract\n",
    "uext = URLExtract()\n",
    "links = []\n",
    "for msg in df['message']:\n",
    "    links.extend(uext.find_urls(msg))"
   ]
  },
  {
   "cell_type": "code",
   "execution_count": 36,
   "metadata": {},
   "outputs": [
    {
     "data": {
      "text/html": [
       "<div>\n",
       "<style scoped>\n",
       "    .dataframe tbody tr th:only-of-type {\n",
       "        vertical-align: middle;\n",
       "    }\n",
       "\n",
       "    .dataframe tbody tr th {\n",
       "        vertical-align: top;\n",
       "    }\n",
       "\n",
       "    .dataframe thead th {\n",
       "        text-align: right;\n",
       "    }\n",
       "</style>\n",
       "<table border=\"1\" class=\"dataframe\">\n",
       "  <thead>\n",
       "    <tr style=\"text-align: right;\">\n",
       "      <th></th>\n",
       "      <th>name</th>\n",
       "      <th>percent</th>\n",
       "    </tr>\n",
       "  </thead>\n",
       "  <tbody>\n",
       "    <tr>\n",
       "      <th>0</th>\n",
       "      <td>Sheetal</td>\n",
       "      <td>47.29</td>\n",
       "    </tr>\n",
       "    <tr>\n",
       "      <th>1</th>\n",
       "      <td>Pranjal Dada</td>\n",
       "      <td>22.85</td>\n",
       "    </tr>\n",
       "    <tr>\n",
       "      <th>2</th>\n",
       "      <td>Shifa</td>\n",
       "      <td>19.24</td>\n",
       "    </tr>\n",
       "    <tr>\n",
       "      <th>3</th>\n",
       "      <td>sanjay😁</td>\n",
       "      <td>7.01</td>\n",
       "    </tr>\n",
       "    <tr>\n",
       "      <th>4</th>\n",
       "      <td>Ajayraj Pasi</td>\n",
       "      <td>2.40</td>\n",
       "    </tr>\n",
       "    <tr>\n",
       "      <th>5</th>\n",
       "      <td>group_notification</td>\n",
       "      <td>1.00</td>\n",
       "    </tr>\n",
       "    <tr>\n",
       "      <th>6</th>\n",
       "      <td>+91 81045 47808</td>\n",
       "      <td>0.20</td>\n",
       "    </tr>\n",
       "  </tbody>\n",
       "</table>\n",
       "</div>"
      ],
      "text/plain": [
       "                 name  percent\n",
       "0             Sheetal    47.29\n",
       "1        Pranjal Dada    22.85\n",
       "2               Shifa    19.24\n",
       "3             sanjay😁     7.01\n",
       "4        Ajayraj Pasi     2.40\n",
       "5  group_notification     1.00\n",
       "6     +91 81045 47808     0.20"
      ]
     },
     "execution_count": 36,
     "metadata": {},
     "output_type": "execute_result"
    }
   ],
   "source": [
    "round((df['user'].value_counts()/df.shape[0])*100,2).reset_index().rename(columns= {\"user\":'name','count':'percent'})"
   ]
  },
  {
   "cell_type": "code",
   "execution_count": 39,
   "metadata": {},
   "outputs": [],
   "source": [
    "from wordcloud import WordCloud\n",
    "import matplotlib.pyplot as plt"
   ]
  },
  {
   "cell_type": "code",
   "execution_count": 40,
   "metadata": {},
   "outputs": [
    {
     "data": {
      "text/plain": [
       "<matplotlib.image.AxesImage at 0x263e4f13380>"
      ]
     },
     "execution_count": 40,
     "metadata": {},
     "output_type": "execute_result"
    },
    {
     "data": {
      "image/png": "[encoded data removed]",
      "text/plain": [
       "<Figure size 640x480 with 1 Axes>"
      ]
     },
     "metadata": {},
     "output_type": "display_data"
    }
   ],
   "source": [
    "wc = WordCloud(width=500,height=500, min_font_size=10, background_color='white')\n",
    "df_wc = wc.generate(df['message'].str.cat(sep=\" \"))\n",
    "plt.imshow(df_wc)"
   ]
  },
  {
   "cell_type": "code",
   "execution_count": 50,
   "metadata": {},
   "outputs": [],
   "source": []
  },
  {
   "cell_type": "code",
   "execution_count": 57,
   "metadata": {},
   "outputs": [],
   "source": [
    "temp = df[df['user'] != 'group_notification']\n",
    "temp = temp[temp['message'] != \" <Media omitted>\\n\"]\n",
    "f = open('stop_hinglish.txt','r')\n",
    "stop_words = f.read()\n",
    "words = []\n",
    "for msg in temp['message']:\n",
    "    for word in msg.strip().lower().split():\n",
    "        if word not in stop_words:\n",
    "            words.append(word)"
   ]
  },
  {
   "cell_type": "code",
   "execution_count": 58,
   "metadata": {},
   "outputs": [
    {
     "data": {
      "text/html": [
       "<div>\n",
       "<style scoped>\n",
       "    .dataframe tbody tr th:only-of-type {\n",
       "        vertical-align: middle;\n",
       "    }\n",
       "\n",
       "    .dataframe tbody tr th {\n",
       "        vertical-align: top;\n",
       "    }\n",
       "\n",
       "    .dataframe thead th {\n",
       "        text-align: right;\n",
       "    }\n",
       "</style>\n",
       "<table border=\"1\" class=\"dataframe\">\n",
       "  <thead>\n",
       "    <tr style=\"text-align: right;\">\n",
       "      <th></th>\n",
       "      <th>0</th>\n",
       "      <th>1</th>\n",
       "    </tr>\n",
       "  </thead>\n",
       "  <tbody>\n",
       "    <tr>\n",
       "      <th>0</th>\n",
       "      <td>achha</td>\n",
       "      <td>13</td>\n",
       "    </tr>\n",
       "    <tr>\n",
       "      <th>1</th>\n",
       "      <td>farewell</td>\n",
       "      <td>12</td>\n",
       "    </tr>\n",
       "    <tr>\n",
       "      <th>2</th>\n",
       "      <td>mam</td>\n",
       "      <td>12</td>\n",
       "    </tr>\n",
       "    <tr>\n",
       "      <th>3</th>\n",
       "      <td>padega</td>\n",
       "      <td>11</td>\n",
       "    </tr>\n",
       "    <tr>\n",
       "      <th>4</th>\n",
       "      <td>idea</td>\n",
       "      <td>10</td>\n",
       "    </tr>\n",
       "    <tr>\n",
       "      <th>5</th>\n",
       "      <td>bhej</td>\n",
       "      <td>10</td>\n",
       "    </tr>\n",
       "    <tr>\n",
       "      <th>6</th>\n",
       "      <td>gift</td>\n",
       "      <td>10</td>\n",
       "    </tr>\n",
       "    <tr>\n",
       "      <th>7</th>\n",
       "      <td>usko</td>\n",
       "      <td>9</td>\n",
       "    </tr>\n",
       "    <tr>\n",
       "      <th>8</th>\n",
       "      <td>message</td>\n",
       "      <td>8</td>\n",
       "    </tr>\n",
       "    <tr>\n",
       "      <th>9</th>\n",
       "      <td>book</td>\n",
       "      <td>8</td>\n",
       "    </tr>\n",
       "    <tr>\n",
       "      <th>10</th>\n",
       "      <td>games</td>\n",
       "      <td>7</td>\n",
       "    </tr>\n",
       "    <tr>\n",
       "      <th>11</th>\n",
       "      <td>cake</td>\n",
       "      <td>7</td>\n",
       "    </tr>\n",
       "    <tr>\n",
       "      <th>12</th>\n",
       "      <td>😂</td>\n",
       "      <td>7</td>\n",
       "    </tr>\n",
       "    <tr>\n",
       "      <th>13</th>\n",
       "      <td>suno</td>\n",
       "      <td>7</td>\n",
       "    </tr>\n",
       "    <tr>\n",
       "      <th>14</th>\n",
       "      <td>puch</td>\n",
       "      <td>7</td>\n",
       "    </tr>\n",
       "    <tr>\n",
       "      <th>15</th>\n",
       "      <td>group</td>\n",
       "      <td>7</td>\n",
       "    </tr>\n",
       "    <tr>\n",
       "      <th>16</th>\n",
       "      <td>khane</td>\n",
       "      <td>7</td>\n",
       "    </tr>\n",
       "    <tr>\n",
       "      <th>17</th>\n",
       "      <td>plan</td>\n",
       "      <td>6</td>\n",
       "    </tr>\n",
       "    <tr>\n",
       "      <th>18</th>\n",
       "      <td>lete</td>\n",
       "      <td>6</td>\n",
       "    </tr>\n",
       "    <tr>\n",
       "      <th>19</th>\n",
       "      <td>pranjal</td>\n",
       "      <td>6</td>\n",
       "    </tr>\n",
       "  </tbody>\n",
       "</table>\n",
       "</div>"
      ],
      "text/plain": [
       "           0   1\n",
       "0      achha  13\n",
       "1   farewell  12\n",
       "2        mam  12\n",
       "3     padega  11\n",
       "4       idea  10\n",
       "5       bhej  10\n",
       "6       gift  10\n",
       "7       usko   9\n",
       "8    message   8\n",
       "9       book   8\n",
       "10     games   7\n",
       "11      cake   7\n",
       "12         😂   7\n",
       "13      suno   7\n",
       "14      puch   7\n",
       "15     group   7\n",
       "16     khane   7\n",
       "17      plan   6\n",
       "18      lete   6\n",
       "19   pranjal   6"
      ]
     },
     "execution_count": 58,
     "metadata": {},
     "output_type": "execute_result"
    }
   ],
   "source": [
    "from collections import Counter\n",
    "pd.DataFrame(Counter(words).most_common(20))"
   ]
  },
  {
   "cell_type": "code",
   "execution_count": 70,
   "metadata": {},
   "outputs": [
    {
     "data": {
      "text/plain": [
       "336                                          Abhi tak?\\n\n",
       "493                         ha yaad se major project 🥲\\n\n",
       "203                                    Ha me bhejti hu\\n\n",
       "453                                  Mujhe sahi lg rha\\n\n",
       "253                                   28 ready hai ane\\n\n",
       "494                                         vo nahi re\\n\n",
       "372                                             Rat tk\\n\n",
       "281     sir kya bol rahe hai abhi? unhone diya kya co...\n",
       "Name: message, dtype: object"
      ]
     },
     "execution_count": 70,
     "metadata": {},
     "output_type": "execute_result"
    }
   ],
   "source": [
    "df['message'].sample(8)"
   ]
  },
  {
   "cell_type": "code",
   "execution_count": null,
   "metadata": {},
   "outputs": [],
   "source": [
    "emoji.emoji_list(\" ha yaad 🥲 se major🥲 project 🥲\")"
   ]
  },
  {
   "cell_type": "code",
   "execution_count": 82,
   "metadata": {},
   "outputs": [],
   "source": [
    "import emoji\n",
    "\n",
    "emojis = []\n",
    "for msg in df['message']:\n",
    "    emojis.extend([c['emoji'] for c in emoji.emoji_list(msg)])"
   ]
  },
  {
   "cell_type": "code",
   "execution_count": 87,
   "metadata": {},
   "outputs": [
    {
     "data": {
      "text/html": [
       "<div>\n",
       "<style scoped>\n",
       "    .dataframe tbody tr th:only-of-type {\n",
       "        vertical-align: middle;\n",
       "    }\n",
       "\n",
       "    .dataframe tbody tr th {\n",
       "        vertical-align: top;\n",
       "    }\n",
       "\n",
       "    .dataframe thead th {\n",
       "        text-align: right;\n",
       "    }\n",
       "</style>\n",
       "<table border=\"1\" class=\"dataframe\">\n",
       "  <thead>\n",
       "    <tr style=\"text-align: right;\">\n",
       "      <th></th>\n",
       "      <th>0</th>\n",
       "      <th>1</th>\n",
       "    </tr>\n",
       "  </thead>\n",
       "  <tbody>\n",
       "    <tr>\n",
       "      <th>0</th>\n",
       "      <td>😂</td>\n",
       "      <td>23</td>\n",
       "    </tr>\n",
       "    <tr>\n",
       "      <th>1</th>\n",
       "      <td>😅</td>\n",
       "      <td>9</td>\n",
       "    </tr>\n",
       "    <tr>\n",
       "      <th>2</th>\n",
       "      <td>🙆🏻‍♀️</td>\n",
       "      <td>3</td>\n",
       "    </tr>\n",
       "    <tr>\n",
       "      <th>3</th>\n",
       "      <td>🥲</td>\n",
       "      <td>3</td>\n",
       "    </tr>\n",
       "    <tr>\n",
       "      <th>4</th>\n",
       "      <td>👍🏻</td>\n",
       "      <td>2</td>\n",
       "    </tr>\n",
       "    <tr>\n",
       "      <th>5</th>\n",
       "      <td>👂</td>\n",
       "      <td>1</td>\n",
       "    </tr>\n",
       "    <tr>\n",
       "      <th>6</th>\n",
       "      <td>🆗</td>\n",
       "      <td>1</td>\n",
       "    </tr>\n",
       "    <tr>\n",
       "      <th>7</th>\n",
       "      <td>🎧</td>\n",
       "      <td>1</td>\n",
       "    </tr>\n",
       "  </tbody>\n",
       "</table>\n",
       "</div>"
      ],
      "text/plain": [
       "       0   1\n",
       "0      😂  23\n",
       "1      😅   9\n",
       "2  🙆🏻‍♀️   3\n",
       "3      🥲   3\n",
       "4     👍🏻   2\n",
       "5      👂   1\n",
       "6      🆗   1\n",
       "7      🎧   1"
      ]
     },
     "execution_count": 87,
     "metadata": {},
     "output_type": "execute_result"
    }
   ],
   "source": [
    "pd.DataFrame(Counter(emojis).most_common(20))"
   ]
  },
  {
   "cell_type": "code",
   "execution_count": 31,
   "metadata": {},
   "outputs": [
    {
     "data": {
      "text/plain": [
       "0       2024-03-23\n",
       "1       2024-05-03\n",
       "2       2024-04-03\n",
       "3       2024-04-03\n",
       "4       2024-05-03\n",
       "           ...    \n",
       "5093    2024-07-28\n",
       "5094    2024-07-28\n",
       "5095    2024-07-28\n",
       "5096    2024-07-28\n",
       "5097    2024-07-28\n",
       "Name: date, Length: 5098, dtype: object"
      ]
     },
     "execution_count": 31,
     "metadata": {},
     "output_type": "execute_result"
    }
   ],
   "source": [
    "df['date'].dt.date"
   ]
  },
  {
   "cell_type": "code",
   "execution_count": 78,
   "metadata": {},
   "outputs": [],
   "source": [
    "df['month_num'] = df['date'].dt.month"
   ]
  },
  {
   "cell_type": "code",
   "execution_count": 79,
   "metadata": {},
   "outputs": [
    {
     "data": {
      "text/plain": [
       "array([3, 4, 5, 6, 7])"
      ]
     },
     "execution_count": 79,
     "metadata": {},
     "output_type": "execute_result"
    }
   ],
   "source": [
    "df['month_num'].unique()"
   ]
  },
  {
   "cell_type": "code",
   "execution_count": 27,
   "metadata": {},
   "outputs": [
    {
     "data": {
      "text/html": [
       "<div>\n",
       "<style scoped>\n",
       "    .dataframe tbody tr th:only-of-type {\n",
       "        vertical-align: middle;\n",
       "    }\n",
       "\n",
       "    .dataframe tbody tr th {\n",
       "        vertical-align: top;\n",
       "    }\n",
       "\n",
       "    .dataframe thead th {\n",
       "        text-align: right;\n",
       "    }\n",
       "</style>\n",
       "<table border=\"1\" class=\"dataframe\">\n",
       "  <thead>\n",
       "    <tr style=\"text-align: right;\">\n",
       "      <th></th>\n",
       "      <th>message</th>\n",
       "      <th>date</th>\n",
       "      <th>user</th>\n",
       "      <th>month</th>\n",
       "      <th>year</th>\n",
       "      <th>day</th>\n",
       "      <th>hour</th>\n",
       "      <th>minute</th>\n",
       "      <th>month_num</th>\n",
       "    </tr>\n",
       "  </thead>\n",
       "  <tbody>\n",
       "    <tr>\n",
       "      <th>27</th>\n",
       "      <td>&lt;Media omitted&gt;\\n</td>\n",
       "      <td>2024-10-03 00:48:00</td>\n",
       "      <td>Shifa</td>\n",
       "      <td>October</td>\n",
       "      <td>2024</td>\n",
       "      <td>3</td>\n",
       "      <td>0</td>\n",
       "      <td>48</td>\n",
       "      <td>10</td>\n",
       "    </tr>\n",
       "    <tr>\n",
       "      <th>28</th>\n",
       "      <td>&lt;Media omitted&gt;\\n</td>\n",
       "      <td>2024-10-03 00:48:00</td>\n",
       "      <td>Shifa</td>\n",
       "      <td>October</td>\n",
       "      <td>2024</td>\n",
       "      <td>3</td>\n",
       "      <td>0</td>\n",
       "      <td>48</td>\n",
       "      <td>10</td>\n",
       "    </tr>\n",
       "    <tr>\n",
       "      <th>29</th>\n",
       "      <td>&lt;Media omitted&gt;\\n</td>\n",
       "      <td>2024-10-03 00:48:00</td>\n",
       "      <td>Shifa</td>\n",
       "      <td>October</td>\n",
       "      <td>2024</td>\n",
       "      <td>3</td>\n",
       "      <td>0</td>\n",
       "      <td>48</td>\n",
       "      <td>10</td>\n",
       "    </tr>\n",
       "    <tr>\n",
       "      <th>30</th>\n",
       "      <td>&lt;Media omitted&gt;\\n</td>\n",
       "      <td>2024-10-03 00:48:00</td>\n",
       "      <td>Shifa</td>\n",
       "      <td>October</td>\n",
       "      <td>2024</td>\n",
       "      <td>3</td>\n",
       "      <td>0</td>\n",
       "      <td>48</td>\n",
       "      <td>10</td>\n",
       "    </tr>\n",
       "    <tr>\n",
       "      <th>374</th>\n",
       "      <td>Hey Sanjay \\nTujhe lec ka yad he vikas sir ne...</td>\n",
       "      <td>2024-08-04 23:14:00</td>\n",
       "      <td>Shifa</td>\n",
       "      <td>August</td>\n",
       "      <td>2024</td>\n",
       "      <td>4</td>\n",
       "      <td>23</td>\n",
       "      <td>14</td>\n",
       "      <td>8</td>\n",
       "    </tr>\n",
       "    <tr>\n",
       "      <th>...</th>\n",
       "      <td>...</td>\n",
       "      <td>...</td>\n",
       "      <td>...</td>\n",
       "      <td>...</td>\n",
       "      <td>...</td>\n",
       "      <td>...</td>\n",
       "      <td>...</td>\n",
       "      <td>...</td>\n",
       "      <td>...</td>\n",
       "    </tr>\n",
       "    <tr>\n",
       "      <th>4222</th>\n",
       "      <td>next weak dekhenge\\n</td>\n",
       "      <td>2024-12-07 19:46:00</td>\n",
       "      <td>sanjay😁</td>\n",
       "      <td>December</td>\n",
       "      <td>2024</td>\n",
       "      <td>7</td>\n",
       "      <td>19</td>\n",
       "      <td>46</td>\n",
       "      <td>12</td>\n",
       "    </tr>\n",
       "    <tr>\n",
       "      <th>4223</th>\n",
       "      <td>week\\n</td>\n",
       "      <td>2024-12-07 19:46:00</td>\n",
       "      <td>sanjay😁</td>\n",
       "      <td>December</td>\n",
       "      <td>2024</td>\n",
       "      <td>7</td>\n",
       "      <td>19</td>\n",
       "      <td>46</td>\n",
       "      <td>12</td>\n",
       "    </tr>\n",
       "    <tr>\n",
       "      <th>4224</th>\n",
       "      <td>Saturday Sunday?\\n</td>\n",
       "      <td>2024-12-07 19:47:00</td>\n",
       "      <td>Shifa</td>\n",
       "      <td>December</td>\n",
       "      <td>2024</td>\n",
       "      <td>7</td>\n",
       "      <td>19</td>\n",
       "      <td>47</td>\n",
       "      <td>12</td>\n",
       "    </tr>\n",
       "    <tr>\n",
       "      <th>4225</th>\n",
       "      <td>next week dekhenge\\n</td>\n",
       "      <td>2024-12-07 19:47:00</td>\n",
       "      <td>sanjay😁</td>\n",
       "      <td>December</td>\n",
       "      <td>2024</td>\n",
       "      <td>7</td>\n",
       "      <td>19</td>\n",
       "      <td>47</td>\n",
       "      <td>12</td>\n",
       "    </tr>\n",
       "    <tr>\n",
       "      <th>4226</th>\n",
       "      <td>Thik he\\n</td>\n",
       "      <td>2024-12-07 19:48:00</td>\n",
       "      <td>Shifa</td>\n",
       "      <td>December</td>\n",
       "      <td>2024</td>\n",
       "      <td>7</td>\n",
       "      <td>19</td>\n",
       "      <td>48</td>\n",
       "      <td>12</td>\n",
       "    </tr>\n",
       "  </tbody>\n",
       "</table>\n",
       "<p>1520 rows × 9 columns</p>\n",
       "</div>"
      ],
      "text/plain": [
       "                                                message                date  \\\n",
       "27                                    <Media omitted>\\n 2024-10-03 00:48:00   \n",
       "28                                    <Media omitted>\\n 2024-10-03 00:48:00   \n",
       "29                                    <Media omitted>\\n 2024-10-03 00:48:00   \n",
       "30                                    <Media omitted>\\n 2024-10-03 00:48:00   \n",
       "374    Hey Sanjay \\nTujhe lec ka yad he vikas sir ne... 2024-08-04 23:14:00   \n",
       "...                                                 ...                 ...   \n",
       "4222                               next weak dekhenge\\n 2024-12-07 19:46:00   \n",
       "4223                                             week\\n 2024-12-07 19:46:00   \n",
       "4224                                 Saturday Sunday?\\n 2024-12-07 19:47:00   \n",
       "4225                               next week dekhenge\\n 2024-12-07 19:47:00   \n",
       "4226                                          Thik he\\n 2024-12-07 19:48:00   \n",
       "\n",
       "         user     month  year  day  hour  minute  month_num  \n",
       "27      Shifa   October  2024    3     0      48         10  \n",
       "28      Shifa   October  2024    3     0      48         10  \n",
       "29      Shifa   October  2024    3     0      48         10  \n",
       "30      Shifa   October  2024    3     0      48         10  \n",
       "374     Shifa    August  2024    4    23      14          8  \n",
       "...       ...       ...   ...  ...   ...     ...        ...  \n",
       "4222  sanjay😁  December  2024    7    19      46         12  \n",
       "4223  sanjay😁  December  2024    7    19      46         12  \n",
       "4224    Shifa  December  2024    7    19      47         12  \n",
       "4225  sanjay😁  December  2024    7    19      47         12  \n",
       "4226    Shifa  December  2024    7    19      48         12  \n",
       "\n",
       "[1520 rows x 9 columns]"
      ]
     },
     "execution_count": 27,
     "metadata": {},
     "output_type": "execute_result"
    }
   ],
   "source": [
    "df[df['month_num'] >=8]"
   ]
  },
  {
   "cell_type": "code",
   "execution_count": 81,
   "metadata": {},
   "outputs": [
    {
     "data": {
      "text/html": [
       "<div>\n",
       "<style scoped>\n",
       "    .dataframe tbody tr th:only-of-type {\n",
       "        vertical-align: middle;\n",
       "    }\n",
       "\n",
       "    .dataframe tbody tr th {\n",
       "        vertical-align: top;\n",
       "    }\n",
       "\n",
       "    .dataframe thead th {\n",
       "        text-align: right;\n",
       "    }\n",
       "</style>\n",
       "<table border=\"1\" class=\"dataframe\">\n",
       "  <thead>\n",
       "    <tr style=\"text-align: right;\">\n",
       "      <th></th>\n",
       "      <th>year</th>\n",
       "      <th>month_num</th>\n",
       "      <th>month</th>\n",
       "      <th>message</th>\n",
       "    </tr>\n",
       "  </thead>\n",
       "  <tbody>\n",
       "    <tr>\n",
       "      <th>0</th>\n",
       "      <td>2024</td>\n",
       "      <td>3</td>\n",
       "      <td>March</td>\n",
       "      <td>119</td>\n",
       "    </tr>\n",
       "    <tr>\n",
       "      <th>1</th>\n",
       "      <td>2024</td>\n",
       "      <td>4</td>\n",
       "      <td>April</td>\n",
       "      <td>448</td>\n",
       "    </tr>\n",
       "    <tr>\n",
       "      <th>2</th>\n",
       "      <td>2024</td>\n",
       "      <td>5</td>\n",
       "      <td>May</td>\n",
       "      <td>920</td>\n",
       "    </tr>\n",
       "    <tr>\n",
       "      <th>3</th>\n",
       "      <td>2024</td>\n",
       "      <td>6</td>\n",
       "      <td>June</td>\n",
       "      <td>1949</td>\n",
       "    </tr>\n",
       "    <tr>\n",
       "      <th>4</th>\n",
       "      <td>2024</td>\n",
       "      <td>7</td>\n",
       "      <td>July</td>\n",
       "      <td>1662</td>\n",
       "    </tr>\n",
       "  </tbody>\n",
       "</table>\n",
       "</div>"
      ],
      "text/plain": [
       "   year  month_num  month  message\n",
       "0  2024          3  March      119\n",
       "1  2024          4  April      448\n",
       "2  2024          5    May      920\n",
       "3  2024          6   June     1949\n",
       "4  2024          7   July     1662"
      ]
     },
     "execution_count": 81,
     "metadata": {},
     "output_type": "execute_result"
    }
   ],
   "source": [
    "year_month = df.groupby(['year','month_num','month'])['message'].count().reset_index()\n",
    "year_month"
   ]
  },
  {
   "cell_type": "code",
   "execution_count": 101,
   "metadata": {},
   "outputs": [
    {
     "data": {
      "text/plain": [
       "7"
      ]
     },
     "execution_count": 101,
     "metadata": {},
     "output_type": "execute_result"
    }
   ],
   "source": [
    "year_month.shape[0]"
   ]
  },
  {
   "cell_type": "code",
   "execution_count": 119,
   "metadata": {},
   "outputs": [],
   "source": [
    "time = []\n",
    "for i in range(year_month.shape[0]):\n",
    "    time.append(year_month['month'][i] + \"-\" + str(year_month['year'][i]))\n"
   ]
  },
  {
   "cell_type": "code",
   "execution_count": 120,
   "metadata": {},
   "outputs": [],
   "source": [
    "year_month['time'] = time"
   ]
  },
  {
   "cell_type": "code",
   "execution_count": 121,
   "metadata": {},
   "outputs": [
    {
     "data": {
      "text/html": [
       "<div>\n",
       "<style scoped>\n",
       "    .dataframe tbody tr th:only-of-type {\n",
       "        vertical-align: middle;\n",
       "    }\n",
       "\n",
       "    .dataframe tbody tr th {\n",
       "        vertical-align: top;\n",
       "    }\n",
       "\n",
       "    .dataframe thead th {\n",
       "        text-align: right;\n",
       "    }\n",
       "</style>\n",
       "<table border=\"1\" class=\"dataframe\">\n",
       "  <thead>\n",
       "    <tr style=\"text-align: right;\">\n",
       "      <th></th>\n",
       "      <th>year</th>\n",
       "      <th>month_num</th>\n",
       "      <th>month</th>\n",
       "      <th>message</th>\n",
       "      <th>time</th>\n",
       "    </tr>\n",
       "  </thead>\n",
       "  <tbody>\n",
       "    <tr>\n",
       "      <th>0</th>\n",
       "      <td>2023</td>\n",
       "      <td>6</td>\n",
       "      <td>June</td>\n",
       "      <td>2</td>\n",
       "      <td>June-2023</td>\n",
       "    </tr>\n",
       "    <tr>\n",
       "      <th>1</th>\n",
       "      <td>2024</td>\n",
       "      <td>1</td>\n",
       "      <td>January</td>\n",
       "      <td>130</td>\n",
       "      <td>January-2024</td>\n",
       "    </tr>\n",
       "    <tr>\n",
       "      <th>2</th>\n",
       "      <td>2024</td>\n",
       "      <td>2</td>\n",
       "      <td>February</td>\n",
       "      <td>34</td>\n",
       "      <td>February-2024</td>\n",
       "    </tr>\n",
       "    <tr>\n",
       "      <th>3</th>\n",
       "      <td>2024</td>\n",
       "      <td>3</td>\n",
       "      <td>March</td>\n",
       "      <td>96</td>\n",
       "      <td>March-2024</td>\n",
       "    </tr>\n",
       "    <tr>\n",
       "      <th>4</th>\n",
       "      <td>2024</td>\n",
       "      <td>4</td>\n",
       "      <td>April</td>\n",
       "      <td>214</td>\n",
       "      <td>April-2024</td>\n",
       "    </tr>\n",
       "    <tr>\n",
       "      <th>5</th>\n",
       "      <td>2024</td>\n",
       "      <td>6</td>\n",
       "      <td>June</td>\n",
       "      <td>5</td>\n",
       "      <td>June-2024</td>\n",
       "    </tr>\n",
       "    <tr>\n",
       "      <th>6</th>\n",
       "      <td>2024</td>\n",
       "      <td>7</td>\n",
       "      <td>July</td>\n",
       "      <td>18</td>\n",
       "      <td>July-2024</td>\n",
       "    </tr>\n",
       "  </tbody>\n",
       "</table>\n",
       "</div>"
      ],
      "text/plain": [
       "   year  month_num     month  message           time\n",
       "0  2023          6      June        2      June-2023\n",
       "1  2024          1   January      130   January-2024\n",
       "2  2024          2  February       34  February-2024\n",
       "3  2024          3     March       96     March-2024\n",
       "4  2024          4     April      214     April-2024\n",
       "5  2024          6      June        5      June-2024\n",
       "6  2024          7      July       18      July-2024"
      ]
     },
     "execution_count": 121,
     "metadata": {},
     "output_type": "execute_result"
    }
   ],
   "source": [
    "year_month"
   ]
  },
  {
   "cell_type": "code",
   "execution_count": 122,
   "metadata": {},
   "outputs": [
    {
     "data": {
      "application/vnd.plotly.v1+json": {
       "config": {
        "plotlyServerURL": "https://plot.ly"
       },
       "data": [
        {
         "hovertemplate": "x=%{x}<br>y=%{y}<extra></extra>",
         "legendgroup": "",
         "line": {
          "color": "#636efa",
          "dash": "solid"
         },
         "marker": {
          "symbol": "circle"
         },
         "mode": "lines",
         "name": "",
         "orientation": "v",
         "showlegend": false,
         "type": "scatter",
         "x": [
          "June-2023",
          "January-2024",
          "February-2024",
          "March-2024",
          "April-2024",
          "June-2024",
          "July-2024"
         ],
         "xaxis": "x",
         "y": [
          2,
          130,
          34,
          96,
          214,
          5,
          18
         ],
         "yaxis": "y"
        }
       ],
       "layout": {
        "legend": {
         "tracegroupgap": 0
        },
        "margin": {
         "t": 60
        },
        "template": {
         "data": {
          "bar": [
           {
            "error_x": {
             "color": "#2a3f5f"
            },
            "error_y": {
             "color": "#2a3f5f"
            },
            "marker": {
             "line": {
              "color": "#E5ECF6",
              "width": 0.5
             },
             "pattern": {
              "fillmode": "overlay",
              "size": 10,
              "solidity": 0.2
             }
            },
            "type": "bar"
           }
          ],
          "barpolar": [
           {
            "marker": {
             "line": {
              "color": "#E5ECF6",
              "width": 0.5
             },
             "pattern": {
              "fillmode": "overlay",
              "size": 10,
              "solidity": 0.2
             }
            },
            "type": "barpolar"
           }
          ],
          "carpet": [
           {
            "aaxis": {
             "endlinecolor": "#2a3f5f",
             "gridcolor": "white",
             "linecolor": "white",
             "minorgridcolor": "white",
             "startlinecolor": "#2a3f5f"
            },
            "baxis": {
             "endlinecolor": "#2a3f5f",
             "gridcolor": "white",
             "linecolor": "white",
             "minorgridcolor": "white",
             "startlinecolor": "#2a3f5f"
            },
            "type": "carpet"
           }
          ],
          "choropleth": [
           {
            "colorbar": {
             "outlinewidth": 0,
             "ticks": ""
            },
            "type": "choropleth"
           }
          ],
          "contour": [
           {
            "colorbar": {
             "outlinewidth": 0,
             "ticks": ""
            },
            "colorscale": [
             [
              0,
              "#0d0887"
             ],
             [
              0.1111111111111111,
              "#46039f"
             ],
             [
              0.2222222222222222,
              "#7201a8"
             ],
             [
              0.3333333333333333,
              "#9c179e"
             ],
             [
              0.4444444444444444,
              "#bd3786"
             ],
             [
              0.5555555555555556,
              "#d8576b"
             ],
             [
              0.6666666666666666,
              "#ed7953"
             ],
             [
              0.7777777777777778,
              "#fb9f3a"
             ],
             [
              0.8888888888888888,
              "#fdca26"
             ],
             [
              1,
              "#f0f921"
             ]
            ],
            "type": "contour"
           }
          ],
          "contourcarpet": [
           {
            "colorbar": {
             "outlinewidth": 0,
             "ticks": ""
            },
            "type": "contourcarpet"
           }
          ],
          "heatmap": [
           {
            "colorbar": {
             "outlinewidth": 0,
             "ticks": ""
            },
            "colorscale": [
             [
              0,
              "#0d0887"
             ],
             [
              0.1111111111111111,
              "#46039f"
             ],
             [
              0.2222222222222222,
              "#7201a8"
             ],
             [
              0.3333333333333333,
              "#9c179e"
             ],
             [
              0.4444444444444444,
              "#bd3786"
             ],
             [
              0.5555555555555556,
              "#d8576b"
             ],
             [
              0.6666666666666666,
              "#ed7953"
             ],
             [
              0.7777777777777778,
              "#fb9f3a"
             ],
             [
              0.8888888888888888,
              "#fdca26"
             ],
             [
              1,
              "#f0f921"
             ]
            ],
            "type": "heatmap"
           }
          ],
          "heatmapgl": [
           {
            "colorbar": {
             "outlinewidth": 0,
             "ticks": ""
            },
            "colorscale": [
             [
              0,
              "#0d0887"
             ],
             [
              0.1111111111111111,
              "#46039f"
             ],
             [
              0.2222222222222222,
              "#7201a8"
             ],
             [
              0.3333333333333333,
              "#9c179e"
             ],
             [
              0.4444444444444444,
              "#bd3786"
             ],
             [
              0.5555555555555556,
              "#d8576b"
             ],
             [
              0.6666666666666666,
              "#ed7953"
             ],
             [
              0.7777777777777778,
              "#fb9f3a"
             ],
             [
              0.8888888888888888,
              "#fdca26"
             ],
             [
              1,
              "#f0f921"
             ]
            ],
            "type": "heatmapgl"
           }
          ],
          "histogram": [
           {
            "marker": {
             "pattern": {
              "fillmode": "overlay",
              "size": 10,
              "solidity": 0.2
             }
            },
            "type": "histogram"
           }
          ],
          "histogram2d": [
           {
            "colorbar": {
             "outlinewidth": 0,
             "ticks": ""
            },
            "colorscale": [
             [
              0,
              "#0d0887"
             ],
             [
              0.1111111111111111,
              "#46039f"
             ],
             [
              0.2222222222222222,
              "#7201a8"
             ],
             [
              0.3333333333333333,
              "#9c179e"
             ],
             [
              0.4444444444444444,
              "#bd3786"
             ],
             [
              0.5555555555555556,
              "#d8576b"
             ],
             [
              0.6666666666666666,
              "#ed7953"
             ],
             [
              0.7777777777777778,
              "#fb9f3a"
             ],
             [
              0.8888888888888888,
              "#fdca26"
             ],
             [
              1,
              "#f0f921"
             ]
            ],
            "type": "histogram2d"
           }
          ],
          "histogram2dcontour": [
           {
            "colorbar": {
             "outlinewidth": 0,
             "ticks": ""
            },
            "colorscale": [
             [
              0,
              "#0d0887"
             ],
             [
              0.1111111111111111,
              "#46039f"
             ],
             [
              0.2222222222222222,
              "#7201a8"
             ],
             [
              0.3333333333333333,
              "#9c179e"
             ],
             [
              0.4444444444444444,
              "#bd3786"
             ],
             [
              0.5555555555555556,
              "#d8576b"
             ],
             [
              0.6666666666666666,
              "#ed7953"
             ],
             [
              0.7777777777777778,
              "#fb9f3a"
             ],
             [
              0.8888888888888888,
              "#fdca26"
             ],
             [
              1,
              "#f0f921"
             ]
            ],
            "type": "histogram2dcontour"
           }
          ],
          "mesh3d": [
           {
            "colorbar": {
             "outlinewidth": 0,
             "ticks": ""
            },
            "type": "mesh3d"
           }
          ],
          "parcoords": [
           {
            "line": {
             "colorbar": {
              "outlinewidth": 0,
              "ticks": ""
             }
            },
            "type": "parcoords"
           }
          ],
          "pie": [
           {
            "automargin": true,
            "type": "pie"
           }
          ],
          "scatter": [
           {
            "fillpattern": {
             "fillmode": "overlay",
             "size": 10,
             "solidity": 0.2
            },
            "type": "scatter"
           }
          ],
          "scatter3d": [
           {
            "line": {
             "colorbar": {
              "outlinewidth": 0,
              "ticks": ""
             }
            },
            "marker": {
             "colorbar": {
              "outlinewidth": 0,
              "ticks": ""
             }
            },
            "type": "scatter3d"
           }
          ],
          "scattercarpet": [
           {
            "marker": {
             "colorbar": {
              "outlinewidth": 0,
              "ticks": ""
             }
            },
            "type": "scattercarpet"
           }
          ],
          "scattergeo": [
           {
            "marker": {
             "colorbar": {
              "outlinewidth": 0,
              "ticks": ""
             }
            },
            "type": "scattergeo"
           }
          ],
          "scattergl": [
           {
            "marker": {
             "colorbar": {
              "outlinewidth": 0,
              "ticks": ""
             }
            },
            "type": "scattergl"
           }
          ],
          "scattermapbox": [
           {
            "marker": {
             "colorbar": {
              "outlinewidth": 0,
              "ticks": ""
             }
            },
            "type": "scattermapbox"
           }
          ],
          "scatterpolar": [
           {
            "marker": {
             "colorbar": {
              "outlinewidth": 0,
              "ticks": ""
             }
            },
            "type": "scatterpolar"
           }
          ],
          "scatterpolargl": [
           {
            "marker": {
             "colorbar": {
              "outlinewidth": 0,
              "ticks": ""
             }
            },
            "type": "scatterpolargl"
           }
          ],
          "scatterternary": [
           {
            "marker": {
             "colorbar": {
              "outlinewidth": 0,
              "ticks": ""
             }
            },
            "type": "scatterternary"
           }
          ],
          "surface": [
           {
            "colorbar": {
             "outlinewidth": 0,
             "ticks": ""
            },
            "colorscale": [
             [
              0,
              "#0d0887"
             ],
             [
              0.1111111111111111,
              "#46039f"
             ],
             [
              0.2222222222222222,
              "#7201a8"
             ],
             [
              0.3333333333333333,
              "#9c179e"
             ],
             [
              0.4444444444444444,
              "#bd3786"
             ],
             [
              0.5555555555555556,
              "#d8576b"
             ],
             [
              0.6666666666666666,
              "#ed7953"
             ],
             [
              0.7777777777777778,
              "#fb9f3a"
             ],
             [
              0.8888888888888888,
              "#fdca26"
             ],
             [
              1,
              "#f0f921"
             ]
            ],
            "type": "surface"
           }
          ],
          "table": [
           {
            "cells": {
             "fill": {
              "color": "#EBF0F8"
             },
             "line": {
              "color": "white"
             }
            },
            "header": {
             "fill": {
              "color": "#C8D4E3"
             },
             "line": {
              "color": "white"
             }
            },
            "type": "table"
           }
          ]
         },
         "layout": {
          "annotationdefaults": {
           "arrowcolor": "#2a3f5f",
           "arrowhead": 0,
           "arrowwidth": 1
          },
          "autotypenumbers": "strict",
          "coloraxis": {
           "colorbar": {
            "outlinewidth": 0,
            "ticks": ""
           }
          },
          "colorscale": {
           "diverging": [
            [
             0,
             "#8e0152"
            ],
            [
             0.1,
             "#c51b7d"
            ],
            [
             0.2,
             "#de77ae"
            ],
            [
             0.3,
             "#f1b6da"
            ],
            [
             0.4,
             "#fde0ef"
            ],
            [
             0.5,
             "#f7f7f7"
            ],
            [
             0.6,
             "#e6f5d0"
            ],
            [
             0.7,
             "#b8e186"
            ],
            [
             0.8,
             "#7fbc41"
            ],
            [
             0.9,
             "#4d9221"
            ],
            [
             1,
             "#276419"
            ]
           ],
           "sequential": [
            [
             0,
             "#0d0887"
            ],
            [
             0.1111111111111111,
             "#46039f"
            ],
            [
             0.2222222222222222,
             "#7201a8"
            ],
            [
             0.3333333333333333,
             "#9c179e"
            ],
            [
             0.4444444444444444,
             "#bd3786"
            ],
            [
             0.5555555555555556,
             "#d8576b"
            ],
            [
             0.6666666666666666,
             "#ed7953"
            ],
            [
             0.7777777777777778,
             "#fb9f3a"
            ],
            [
             0.8888888888888888,
             "#fdca26"
            ],
            [
             1,
             "#f0f921"
            ]
           ],
           "sequentialminus": [
            [
             0,
             "#0d0887"
            ],
            [
             0.1111111111111111,
             "#46039f"
            ],
            [
             0.2222222222222222,
             "#7201a8"
            ],
            [
             0.3333333333333333,
             "#9c179e"
            ],
            [
             0.4444444444444444,
             "#bd3786"
            ],
            [
             0.5555555555555556,
             "#d8576b"
            ],
            [
             0.6666666666666666,
             "#ed7953"
            ],
            [
             0.7777777777777778,
             "#fb9f3a"
            ],
            [
             0.8888888888888888,
             "#fdca26"
            ],
            [
             1,
             "#f0f921"
            ]
           ]
          },
          "colorway": [
           "#636efa",
           "#EF553B",
           "#00cc96",
           "#ab63fa",
           "#FFA15A",
           "#19d3f3",
           "#FF6692",
           "#B6E880",
           "#FF97FF",
           "#FECB52"
          ],
          "font": {
           "color": "#2a3f5f"
          },
          "geo": {
           "bgcolor": "white",
           "lakecolor": "white",
           "landcolor": "#E5ECF6",
           "showlakes": true,
           "showland": true,
           "subunitcolor": "white"
          },
          "hoverlabel": {
           "align": "left"
          },
          "hovermode": "closest",
          "mapbox": {
           "style": "light"
          },
          "paper_bgcolor": "white",
          "plot_bgcolor": "#E5ECF6",
          "polar": {
           "angularaxis": {
            "gridcolor": "white",
            "linecolor": "white",
            "ticks": ""
           },
           "bgcolor": "#E5ECF6",
           "radialaxis": {
            "gridcolor": "white",
            "linecolor": "white",
            "ticks": ""
           }
          },
          "scene": {
           "xaxis": {
            "backgroundcolor": "#E5ECF6",
            "gridcolor": "white",
            "gridwidth": 2,
            "linecolor": "white",
            "showbackground": true,
            "ticks": "",
            "zerolinecolor": "white"
           },
           "yaxis": {
            "backgroundcolor": "#E5ECF6",
            "gridcolor": "white",
            "gridwidth": 2,
            "linecolor": "white",
            "showbackground": true,
            "ticks": "",
            "zerolinecolor": "white"
           },
           "zaxis": {
            "backgroundcolor": "#E5ECF6",
            "gridcolor": "white",
            "gridwidth": 2,
            "linecolor": "white",
            "showbackground": true,
            "ticks": "",
            "zerolinecolor": "white"
           }
          },
          "shapedefaults": {
           "line": {
            "color": "#2a3f5f"
           }
          },
          "ternary": {
           "aaxis": {
            "gridcolor": "white",
            "linecolor": "white",
            "ticks": ""
           },
           "baxis": {
            "gridcolor": "white",
            "linecolor": "white",
            "ticks": ""
           },
           "bgcolor": "#E5ECF6",
           "caxis": {
            "gridcolor": "white",
            "linecolor": "white",
            "ticks": ""
           }
          },
          "title": {
           "x": 0.05
          },
          "xaxis": {
           "automargin": true,
           "gridcolor": "white",
           "linecolor": "white",
           "ticks": "",
           "title": {
            "standoff": 15
           },
           "zerolinecolor": "white",
           "zerolinewidth": 2
          },
          "yaxis": {
           "automargin": true,
           "gridcolor": "white",
           "linecolor": "white",
           "ticks": "",
           "title": {
            "standoff": 15
           },
           "zerolinecolor": "white",
           "zerolinewidth": 2
          }
         }
        },
        "xaxis": {
         "anchor": "y",
         "domain": [
          0,
          1
         ],
         "title": {
          "text": "x"
         }
        },
        "yaxis": {
         "anchor": "x",
         "domain": [
          0,
          1
         ],
         "title": {
          "text": "y"
         }
        }
       }
      }
     },
     "metadata": {},
     "output_type": "display_data"
    }
   ],
   "source": [
    "import plotly.express as px\n",
    "\n",
    "px.line(x=year_month['time'],y=year_month['message'])"
   ]
  },
  {
   "cell_type": "code",
   "execution_count": 124,
   "metadata": {},
   "outputs": [
    {
     "data": {
      "text/html": [
       "<div>\n",
       "<style scoped>\n",
       "    .dataframe tbody tr th:only-of-type {\n",
       "        vertical-align: middle;\n",
       "    }\n",
       "\n",
       "    .dataframe tbody tr th {\n",
       "        vertical-align: top;\n",
       "    }\n",
       "\n",
       "    .dataframe thead th {\n",
       "        text-align: right;\n",
       "    }\n",
       "</style>\n",
       "<table border=\"1\" class=\"dataframe\">\n",
       "  <thead>\n",
       "    <tr style=\"text-align: right;\">\n",
       "      <th></th>\n",
       "      <th>message</th>\n",
       "      <th>date</th>\n",
       "      <th>user</th>\n",
       "      <th>month</th>\n",
       "      <th>year</th>\n",
       "      <th>day</th>\n",
       "      <th>hour</th>\n",
       "      <th>minute</th>\n",
       "      <th>month_num</th>\n",
       "    </tr>\n",
       "  </thead>\n",
       "  <tbody>\n",
       "    <tr>\n",
       "      <th>0</th>\n",
       "      <td>Messages and calls are end-to-end encrypted. N...</td>\n",
       "      <td>2024-03-23 10:45:00</td>\n",
       "      <td>group_notification</td>\n",
       "      <td>March</td>\n",
       "      <td>2024</td>\n",
       "      <td>23</td>\n",
       "      <td>10</td>\n",
       "      <td>45</td>\n",
       "      <td>3</td>\n",
       "    </tr>\n",
       "    <tr>\n",
       "      <th>1</th>\n",
       "      <td>Pranjal Dada created group \"Entertainment!!!\"\\n</td>\n",
       "      <td>2023-06-09 23:50:00</td>\n",
       "      <td>group_notification</td>\n",
       "      <td>June</td>\n",
       "      <td>2023</td>\n",
       "      <td>9</td>\n",
       "      <td>23</td>\n",
       "      <td>50</td>\n",
       "      <td>6</td>\n",
       "    </tr>\n",
       "    <tr>\n",
       "      <th>2</th>\n",
       "      <td>You were added\\n</td>\n",
       "      <td>2023-06-09 23:50:00</td>\n",
       "      <td>group_notification</td>\n",
       "      <td>June</td>\n",
       "      <td>2023</td>\n",
       "      <td>9</td>\n",
       "      <td>23</td>\n",
       "      <td>50</td>\n",
       "      <td>6</td>\n",
       "    </tr>\n",
       "    <tr>\n",
       "      <th>3</th>\n",
       "      <td>Han\\n</td>\n",
       "      <td>2024-04-03 23:11:00</td>\n",
       "      <td>Shifa</td>\n",
       "      <td>April</td>\n",
       "      <td>2024</td>\n",
       "      <td>3</td>\n",
       "      <td>23</td>\n",
       "      <td>11</td>\n",
       "      <td>4</td>\n",
       "    </tr>\n",
       "    <tr>\n",
       "      <th>4</th>\n",
       "      <td>Are vo plan ready kiya tha na Farewell ka\\n</td>\n",
       "      <td>2024-03-13 20:36:00</td>\n",
       "      <td>Sheetal</td>\n",
       "      <td>March</td>\n",
       "      <td>2024</td>\n",
       "      <td>13</td>\n",
       "      <td>20</td>\n",
       "      <td>36</td>\n",
       "      <td>3</td>\n",
       "    </tr>\n",
       "    <tr>\n",
       "      <th>...</th>\n",
       "      <td>...</td>\n",
       "      <td>...</td>\n",
       "      <td>...</td>\n",
       "      <td>...</td>\n",
       "      <td>...</td>\n",
       "      <td>...</td>\n",
       "      <td>...</td>\n",
       "      <td>...</td>\n",
       "      <td>...</td>\n",
       "    </tr>\n",
       "    <tr>\n",
       "      <th>494</th>\n",
       "      <td>vo nahi re\\n</td>\n",
       "      <td>2024-07-14 21:26:00</td>\n",
       "      <td>Pranjal Dada</td>\n",
       "      <td>July</td>\n",
       "      <td>2024</td>\n",
       "      <td>14</td>\n",
       "      <td>21</td>\n",
       "      <td>26</td>\n",
       "      <td>7</td>\n",
       "    </tr>\n",
       "    <tr>\n",
       "      <th>495</th>\n",
       "      <td>Haa\\n</td>\n",
       "      <td>2024-07-14 21:27:00</td>\n",
       "      <td>Sheetal</td>\n",
       "      <td>July</td>\n",
       "      <td>2024</td>\n",
       "      <td>14</td>\n",
       "      <td>21</td>\n",
       "      <td>27</td>\n",
       "      <td>7</td>\n",
       "    </tr>\n",
       "    <tr>\n",
       "      <th>496</th>\n",
       "      <td>Hello everyone,\\nFreshers ke liye ideas sochn...</td>\n",
       "      <td>2024-07-17 21:47:00</td>\n",
       "      <td>Pranjal Dada</td>\n",
       "      <td>July</td>\n",
       "      <td>2024</td>\n",
       "      <td>17</td>\n",
       "      <td>21</td>\n",
       "      <td>47</td>\n",
       "      <td>7</td>\n",
       "    </tr>\n",
       "    <tr>\n",
       "      <th>497</th>\n",
       "      <td>Pranjal Dada removed +91 93263 39899\\n</td>\n",
       "      <td>2024-07-17 22:05:00</td>\n",
       "      <td>group_notification</td>\n",
       "      <td>July</td>\n",
       "      <td>2024</td>\n",
       "      <td>17</td>\n",
       "      <td>22</td>\n",
       "      <td>5</td>\n",
       "      <td>7</td>\n",
       "    </tr>\n",
       "    <tr>\n",
       "      <th>498</th>\n",
       "      <td>Haaa\\n</td>\n",
       "      <td>2024-07-17 22:11:00</td>\n",
       "      <td>Sheetal</td>\n",
       "      <td>July</td>\n",
       "      <td>2024</td>\n",
       "      <td>17</td>\n",
       "      <td>22</td>\n",
       "      <td>11</td>\n",
       "      <td>7</td>\n",
       "    </tr>\n",
       "  </tbody>\n",
       "</table>\n",
       "<p>499 rows × 9 columns</p>\n",
       "</div>"
      ],
      "text/plain": [
       "                                               message                date  \\\n",
       "0    Messages and calls are end-to-end encrypted. N... 2024-03-23 10:45:00   \n",
       "1      Pranjal Dada created group \"Entertainment!!!\"\\n 2023-06-09 23:50:00   \n",
       "2                                     You were added\\n 2023-06-09 23:50:00   \n",
       "3                                                Han\\n 2024-04-03 23:11:00   \n",
       "4          Are vo plan ready kiya tha na Farewell ka\\n 2024-03-13 20:36:00   \n",
       "..                                                 ...                 ...   \n",
       "494                                       vo nahi re\\n 2024-07-14 21:26:00   \n",
       "495                                              Haa\\n 2024-07-14 21:27:00   \n",
       "496   Hello everyone,\\nFreshers ke liye ideas sochn... 2024-07-17 21:47:00   \n",
       "497             Pranjal Dada removed +91 93263 39899\\n 2024-07-17 22:05:00   \n",
       "498                                             Haaa\\n 2024-07-17 22:11:00   \n",
       "\n",
       "                   user  month  year  day  hour  minute  month_num  \n",
       "0    group_notification  March  2024   23    10      45          3  \n",
       "1    group_notification   June  2023    9    23      50          6  \n",
       "2    group_notification   June  2023    9    23      50          6  \n",
       "3                 Shifa  April  2024    3    23      11          4  \n",
       "4               Sheetal  March  2024   13    20      36          3  \n",
       "..                  ...    ...   ...  ...   ...     ...        ...  \n",
       "494        Pranjal Dada   July  2024   14    21      26          7  \n",
       "495             Sheetal   July  2024   14    21      27          7  \n",
       "496        Pranjal Dada   July  2024   17    21      47          7  \n",
       "497  group_notification   July  2024   17    22       5          7  \n",
       "498             Sheetal   July  2024   17    22      11          7  \n",
       "\n",
       "[499 rows x 9 columns]"
      ]
     },
     "execution_count": 124,
     "metadata": {},
     "output_type": "execute_result"
    }
   ],
   "source": [
    "df"
   ]
  },
  {
   "cell_type": "code",
   "execution_count": 125,
   "metadata": {},
   "outputs": [],
   "source": [
    "df['day_name'] = df['date'].dt.day_name()"
   ]
  },
  {
   "cell_type": "code",
   "execution_count": 126,
   "metadata": {},
   "outputs": [
    {
     "data": {
      "text/plain": [
       "day_name\n",
       "Friday       198\n",
       "Tuesday      139\n",
       "Monday        55\n",
       "Saturday      51\n",
       "Wednesday     20\n",
       "Thursday      18\n",
       "Sunday        18\n",
       "Name: count, dtype: int64"
      ]
     },
     "execution_count": 126,
     "metadata": {},
     "output_type": "execute_result"
    }
   ],
   "source": [
    "df['day_name'].value_counts()"
   ]
  },
  {
   "cell_type": "code",
   "execution_count": 130,
   "metadata": {},
   "outputs": [
    {
     "data": {
      "text/plain": [
       "<Axes: xlabel='hour', ylabel='day_name'>"
      ]
     },
     "execution_count": 130,
     "metadata": {},
     "output_type": "execute_result"
    },
    {
     "data": {
      "image/png": "[encoded data removed]",
      "text/plain": [
       "<Figure size 640x480 with 2 Axes>"
      ]
     },
     "metadata": {},
     "output_type": "display_data"
    }
   ],
   "source": [
    "import seaborn as sns\n",
    "sns.heatmap(df.pivot_table(index='day_name',columns='hour',values='message',aggfunc='count').fillna(0))"
   ]
  }
 ],
 "metadata": {
  "kernelspec": {
   "display_name": "Python 3",
   "language": "python",
   "name": "python3"
  },
  "language_info": {
   "codemirror_mode": {
    "name": "ipython",
    "version": 3
   },
   "file_extension": ".py",
   "mimetype": "text/x-python",
   "name": "python",
   "nbconvert_exporter": "python",
   "pygments_lexer": "ipython3",
   "version": "3.12.3"
  }
 },
 "nbformat": 4,
 "nbformat_minor": 2
}
